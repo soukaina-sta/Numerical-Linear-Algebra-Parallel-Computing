{
 "cells": [
  {
   "cell_type": "markdown",
   "id": "aea03da3",
   "metadata": {},
   "source": [
    "In this assignement, feel free to use the `sparse` module from `scipy`."
   ]
  },
  {
   "cell_type": "markdown",
   "id": "2df42bcc",
   "metadata": {},
   "source": [
    "Use the cell below for your imports."
   ]
  },
  {
   "cell_type": "code",
   "execution_count": 127,
   "id": "e9644e55",
   "metadata": {},
   "outputs": [],
   "source": [
    "from scipy import sparse\n",
    "from scipy.sparse import coo_matrix \n",
    "import numpy as np"
   ]
  },
  {
   "cell_type": "markdown",
   "id": "8948a816",
   "metadata": {},
   "source": [
    "implement the function `mat_mul_coo` that takes two sparse matrices in `coo` and returns their product."
   ]
  },
  {
   "cell_type": "code",
   "execution_count": 128,
   "id": "6047ee0e",
   "metadata": {},
   "outputs": [
    {
     "name": "stdout",
     "output_type": "stream",
     "text": [
      "<class 'scipy.sparse._coo.coo_matrix'>\n",
      "-------------------------------------------------------\n",
      "[[ 351    0    0    0]\n",
      " [   0  360 2622    0]\n",
      " [   0    0 1020    0]\n",
      " [   0    0    0    0]]\n"
     ]
    }
   ],
   "source": [
    "A_data = [39, 42, 15, 20]\n",
    "A_row_indices = [0, 1, 1, 2,1]\n",
    "A_col_indices = [0, 1, 2, 1,0]\n",
    "\n",
    "B_data =  [9, 32, 51, 24]\n",
    "B_row_indices =  [0, 2, 1, 2,1]\n",
    "B_col_indices = [0, 2, 2, 1,0]\n",
    "\n",
    "# Matrix dimensions\n",
    "A_rows = 4\n",
    "A_cols = 4\n",
    "B_cols = 4\n",
    "A_rows = 4\n",
    "\n",
    "C_data = []\n",
    "C_row_indices = []\n",
    "C_col_indices = []\n",
    "\n",
    "for i in range(len(A_data)):\n",
    "    row_A = A_row_indices[i]\n",
    "    col_A = A_col_indices[i]\n",
    "    value_A = A_data[i]\n",
    "    \n",
    "    for j in range(len(B_data)):\n",
    "        row_B = B_row_indices[j]\n",
    "        col_B = B_col_indices[j]\n",
    "        value_B = B_data[j]\n",
    "        \n",
    "        \n",
    "        if col_A == row_B:\n",
    "            C_data.append(value_A * value_B)\n",
    "            C_row_indices.append(row_A)\n",
    "            C_col_indices.append(col_B)\n",
    "\n",
    "\n",
    "C = (C_data, (C_row_indices, C_col_indices))\n",
    "C = coo_matrix((C_data, (C_row_indices, C_col_indices)), shape=(4, 4))\n",
    "print(type(C))\n",
    "print('-------------------------------------------------------')\n",
    "print(C.toarray())"
   ]
  },
  {
   "cell_type": "markdown",
   "id": "4a626dec",
   "metadata": {},
   "source": [
    "implement the function `mat_mul_csr` that takes two sparse matrices in `csr` format and returns their product."
   ]
  },
  {
   "cell_type": "code",
   "execution_count": 129,
   "id": "c2e56fbd",
   "metadata": {},
   "outputs": [
    {
     "name": "stdout",
     "output_type": "stream",
     "text": [
      "<class 'scipy.sparse._coo.coo_matrix'>\n",
      "-------------------------------------------------------\n",
      "[[  12    0 2784    0]\n",
      " [   0    0 1131    0]\n",
      " [   0  816    0 1435]\n",
      " [   0    0    0 2419]]\n"
     ]
    }
   ],
   "source": [
    "A = np.array([[2,0, 32,0], [0,0, 13, 0], [0,48, 0, 35],[0,0, 0, 59]])\n",
    "B = np.array([[6, 0,0,0], [0,17,0,0], [0,0,87, 99],[0,41, 0,0]])\n",
    "\n",
    "A_rows, A_cols = np.nonzero(A)\n",
    "A_vals = A[A_rows, A_cols]\n",
    "A_indptr = np.concatenate(([0], np.cumsum(np.bincount(A_rows, minlength=A.shape[0]))))\n",
    "\n",
    "B_rows, B_cols = np.nonzero(B)\n",
    "B_vals = B[B_rows, B_cols]\n",
    "B_indptr = np.concatenate(([0], np.cumsum(np.bincount(B_rows, minlength=B.shape[0]))))\n",
    "\n",
    "C_rows = []\n",
    "C_cols = []\n",
    "C_vals = []\n",
    "\n",
    "for i in range(A.shape[0]):\n",
    "    row_start = A_indptr[i]\n",
    "    row_end = A_indptr[i+1]\n",
    "    for j in range(B.shape[1]):\n",
    "        col_start = B_indptr[j]\n",
    "        col_end = B_indptr[j+1]\n",
    "        dot_prod = 0\n",
    "        k1, k2 = row_start, col_start\n",
    "        while k1 < row_end and k2 < col_end:\n",
    "            if A_cols[k1] == B_rows[k2]:\n",
    "                dot_prod += A_vals[k1] * B_vals[k2]\n",
    "                k1 += 1\n",
    "                k2 += 1\n",
    "            elif A_cols[k1] < B_rows[k2]:\n",
    "                k1 += 1\n",
    "            else:\n",
    "                k2 += 1\n",
    "        if dot_prod != 0:\n",
    "            C_rows.append(i)\n",
    "            C_cols.append(j)\n",
    "            C_vals.append(dot_prod)\n",
    "\n",
    "            \n",
    "C = coo_matrix((C_vals, (C_rows, C_cols)), shape=(4, 4))\n",
    "print(type(C))\n",
    "print('-------------------------------------------------------')\n",
    "print(C.toarray())"
   ]
  },
  {
   "cell_type": "markdown",
   "id": "9592a90b",
   "metadata": {},
   "source": [
    "implement a function `solve_lin_sys` that takes a matrix `A` in `csr` format and a vector `b` as a numpy array and solves the system `Ax = b`."
   ]
  },
  {
   "cell_type": "code",
   "execution_count": 178,
   "id": "00edeb4c",
   "metadata": {},
   "outputs": [],
   "source": [
    "import numpy as np\n",
    "from scipy.sparse import csr_matrix\n",
    "\n",
    "def solve_lin_sys(A_csr, b):\n",
    "    x = np.zeros(A_csr.shape[0])\n",
    "    r = b - A_csr.dot(x)\n",
    "    p = r\n",
    "    tol = 1e-6\n",
    "    max_iter = 1000\n",
    "\n",
    "    for i in range(max_iter):\n",
    "        alpha = np.dot(r, r) / np.dot(p, A_csr.dot(p))\n",
    "        x = x + alpha * p\n",
    "        r_new = r - alpha * A_csr.dot(p)\n",
    "        if np.linalg.norm(r_new) < tol:\n",
    "            break\n",
    "        beta = np.dot(r_new, r_new) / np.dot(r, r)\n",
    "        p = r_new + beta * p\n",
    "        r = r_new\n",
    "    return x"
   ]
  },
  {
   "cell_type": "code",
   "execution_count": 179,
   "id": "21846c6e",
   "metadata": {},
   "outputs": [
    {
     "name": "stdout",
     "output_type": "stream",
     "text": [
      "<class 'scipy.sparse._csr.csr_matrix'>\n",
      "--------------------------------------------------------\n",
      "[[1 0 2]\n",
      " [0 0 3]\n",
      " [4 5 6]]\n",
      "--------------------------------------------------------\n",
      "x =  [  30.1231933  -137.11129276    0.88181378]\n"
     ]
    }
   ],
   "source": [
    "indptr = np.array([0, 2, 3, 6])\n",
    "indices = np.array([0, 2, 2, 0, 1, 2])\n",
    "data = np.array([1, 2, 3, 4, 5, 6])\n",
    "b = np.array([0,1,1])\n",
    "A_csr = csr_matrix((data, indices, indptr), shape=(3, 3))\n",
    "print(type(A_csr))\n",
    "print('--------------------------------------------------------')\n",
    "print(A_csr.toarray())\n",
    "print('--------------------------------------------------------')\n",
    "print('x = ',solve_lin_sys(A_csr, b))"
   ]
  }
 ],
 "metadata": {
  "kernelspec": {
   "display_name": "Python 3 (ipykernel)",
   "language": "python",
   "name": "python3"
  },
  "language_info": {
   "codemirror_mode": {
    "name": "ipython",
    "version": 3
   },
   "file_extension": ".py",
   "mimetype": "text/x-python",
   "name": "python",
   "nbconvert_exporter": "python",
   "pygments_lexer": "ipython3",
   "version": "3.9.13"
  }
 },
 "nbformat": 4,
 "nbformat_minor": 5
}
