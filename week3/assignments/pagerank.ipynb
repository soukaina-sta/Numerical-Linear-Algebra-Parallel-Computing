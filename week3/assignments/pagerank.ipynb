{
 "cells": [
  {
   "cell_type": "markdown",
   "id": "87d64ccf",
   "metadata": {},
   "source": [
    "# PageRank "
   ]
  },
  {
   "cell_type": "markdown",
   "id": "a426d8f9",
   "metadata": {},
   "source": [
    "### Use this cell for all your imports"
   ]
  },
  {
   "cell_type": "code",
   "execution_count": 10,
   "id": "40623a0d",
   "metadata": {},
   "outputs": [],
   "source": [
    "import numpy as np\n",
    "import scipy as sp\n",
    "import scipy.sparse as sparse\n",
    "from scipy.sparse import coo_matrix, csr_matrix\n",
    "from sklearn.preprocessing import normalize\n",
    "import matplotlib.pyplot as plt\n",
    "from scipy.sparse import coo_matrix\n",
    "import numpy as np\n",
    "from scipy.sparse import coo_matrix"
   ]
  },
  {
   "cell_type": "markdown",
   "id": "164f305b",
   "metadata": {},
   "source": [
    "### You will be working with the file data.txt. Use this cell to load its content into the appropriate data structure."
   ]
  },
  {
   "cell_type": "markdown",
   "id": "da4b3747",
   "metadata": {},
   "source": [
    "The given code loads integer data from \"data.txt\" file by ignoring the first two rows and comments and interpreting tab-separated values as integers. The resulting data is stored in a numpy array named \"data\"."
   ]
  },
  {
   "cell_type": "code",
   "execution_count": 14,
   "id": "be42fee4",
   "metadata": {},
   "outputs": [
    {
     "data": {
      "text/plain": [
       "array([[   1001, 9304045],\n",
       "       [   1001, 9308122],\n",
       "       [   1001, 9309097],\n",
       "       ...,\n",
       "       [9912286, 9808140],\n",
       "       [9912286, 9810068],\n",
       "       [9912286, 9901023]])"
      ]
     },
     "execution_count": 14,
     "metadata": {},
     "output_type": "execute_result"
    }
   ],
   "source": [
    "# Load data from file\n",
    "data = np.loadtxt(\"data.txt\", comments=\"#\", delimiter=\"\\t\", dtype=int, unpack=False, skiprows=2)\n",
    "data"
   ]
  },
  {
   "cell_type": "markdown",
   "id": "95b50488",
   "metadata": {},
   "source": [
    "We create an adjacency matrix using the data in \"data\". The matrix is constructed using the elements of the first column of \"data\" as row indices, and the elements of the second column as column indices. The code can also create an adjacency matrix with the values in \"data\" and set each element to 1; the first column is used for row indices, while the second column is used for column indices."
   ]
  },
  {
   "cell_type": "code",
   "execution_count": 23,
   "id": "9cbf1457",
   "metadata": {},
   "outputs": [],
   "source": [
    "# Create the adjacency matrix\n",
    "adj_matrix = coo_matrix((np.ones(data.shape[0]), (data[:, 0], data[:, 1])))"
   ]
  },
  {
   "cell_type": "markdown",
   "id": "4c7a8af4",
   "metadata": {},
   "source": [
    "### Use this cell to normalize the matrix as you see fit."
   ]
  },
  {
   "cell_type": "markdown",
   "id": "9f65ff0b",
   "metadata": {},
   "source": [
    "We normalize the adjacency matrix by multiplying it with the inverse row sum."
   ]
  },
  {
   "cell_type": "code",
   "execution_count": 31,
   "id": "d53ce273",
   "metadata": {},
   "outputs": [
    {
     "name": "stdout",
     "output_type": "stream",
     "text": [
      "  (1001, 9304045)\t1.0\n",
      "  (1001, 9308122)\t0.14285714285714285\n",
      "  (1001, 9309097)\t0.25\n",
      "  (1001, 9311042)\t0.5\n",
      "  (1001, 9401139)\t0.025\n",
      "  (1001, 9404151)\t0.5\n",
      "  (1001, 9407087)\t0.1111111111111111\n",
      "  (1001, 9408099)\t0.14285714285714285\n",
      "  (1001, 9501030)\t0.037037037037037035\n",
      "  (1001, 9503124)\t0.1\n",
      "  (1001, 9504090)\t0.25\n",
      "  (1001, 9504145)\t0.5\n",
      "  (1001, 9505025)\t0.07142857142857142\n",
      "  (1001, 9505054)\t0.1\n",
      "  (1001, 9505105)\t0.047619047619047616\n",
      "  (1001, 9505162)\t0.04\n",
      "  (1001, 9506048)\t0.14285714285714285\n",
      "  (1001, 9506112)\t0.058823529411764705\n",
      "  (1001, 9506144)\t0.06666666666666667\n",
      "  (1001, 9507050)\t0.05263157894736842\n",
      "  (1001, 9507158)\t0.0625\n",
      "  (1001, 9508094)\t0.034482758620689655\n",
      "  (1001, 9508155)\t0.018867924528301886\n",
      "  (1001, 9510142)\t0.03571428571428571\n",
      "  (1001, 9510225)\t0.045454545454545456\n",
      "  :\t:\n",
      "  (9912291, 9802149)\t1.0\n",
      "  (9912291, 9908149)\t0.029411764705882353\n",
      "  (9912291, 9912102)\t0.5\n",
      "  (9912292, 9406217)\t1.0\n",
      "  (9912292, 9606139)\t0.038461538461538464\n",
      "  (9912292, 9608177)\t0.25\n",
      "  (9912292, 9702163)\t0.017857142857142856\n",
      "  (9912292, 9702202)\t0.047619047619047616\n",
      "  (9912292, 9707061)\t0.5\n",
      "  (9912292, 9710129)\t0.09090909090909091\n",
      "  (9912292, 9711116)\t0.125\n",
      "  (9912292, 9711203)\t0.03333333333333333\n",
      "  (9912292, 9811022)\t0.05263157894736842\n",
      "  (9912292, 9811130)\t0.2\n",
      "  (9912292, 9811232)\t0.02702702702702703\n",
      "  (9912292, 9811244)\t0.0625\n",
      "  (9912292, 9901003)\t0.07142857142857142\n",
      "  (9912292, 9904109)\t0.045454545454545456\n",
      "  (9912292, 9909098)\t0.05\n",
      "  (9912293, 9711162)\t0.05555555555555555\n",
      "  (9912293, 9907211)\t0.05263157894736842\n",
      "  (9912293, 9908105)\t0.01694915254237288\n",
      "  (9912293, 9908142)\t0.013333333333333334\n",
      "  (9912293, 9909081)\t0.5\n",
      "  (9912293, 9909132)\t0.2\n"
     ]
    }
   ],
   "source": [
    "rowsum = np.array(adj_matrix.sum(axis=1)).flatten()# Calculate row sums of the adjacency matrix\n",
    "rowsum[rowsum == 0] = 1# Set any zero values to 1 to avoid divide-by-zero errors\n",
    "normalized_matrix = adj_matrix.multiply(1 / rowsum).tocsr()# Normalize the adjacency matrix by multiplying it with the inverse row sum\n",
    "print(normalized_matrix)"
   ]
  },
  {
   "cell_type": "markdown",
   "id": "5a4ee89a",
   "metadata": {},
   "source": [
    "### Apply the PageRank algorithm to the matrix you created."
   ]
  },
  {
   "cell_type": "markdown",
   "id": "ceefb8aa",
   "metadata": {},
   "source": [
    "This code runs the PageRank algorithm on a normalized adjacency matrix, using predefined parameters and prints the top 10 nodes by PageRank score."
   ]
  },
  {
   "cell_type": "code",
   "execution_count": 55,
   "id": "ae9319ef",
   "metadata": {},
   "outputs": [
    {
     "name": "stdout",
     "output_type": "stream",
     "text": [
      "Converged after 19 iterations\n",
      "Top 10 nodes by PageRank score:\n",
      "Node 9905111: 0.00001\n",
      "Node 9710046: 0.00001\n",
      "Node 110055: 0.00000\n",
      "Node 210157: 0.00000\n",
      "Node 7170: 0.00000\n",
      "Node 101126: 0.00000\n",
      "Node 204089: 0.00000\n",
      "Node 9802051: 0.00000\n",
      "Node 9809039: 0.00000\n",
      "Node 9802067: 0.00000\n"
     ]
    }
   ],
   "source": [
    "# Set PageRank parameters\n",
    "alpha = 0.85  # damping factor\n",
    "max_iter = 100  # maximum number of iterations\n",
    "tolerance = 1e-6  # convergence tolerance\n",
    "\n",
    "# Initialize PageRank scores\n",
    "num_nodes = normalized_matrix.shape[0]\n",
    "pagerank = np.ones(num_nodes) / num_nodes\n",
    "\n",
    "# Run PageRank algorithm\n",
    "for i in range(max_iter):\n",
    "    prev_pagerank = pagerank.copy()\n",
    "    pagerank = normalized_matrix.dot(pagerank) * alpha + (1 - alpha) / num_nodes\n",
    "    delta = np.abs(pagerank - prev_pagerank).sum()\n",
    "    if delta < tolerance:\n",
    "        print(f\"Converged after {i+1} iterations\")\n",
    "        break\n",
    "\n",
    "# Sort nodes by PageRank score in descending order\n",
    "node_scores = {i: score for i, score in enumerate(pagerank)}\n",
    "sorted_scores = sorted(node_scores.items(), key=lambda x: x[1], reverse=True)\n",
    "\n",
    "# Print top 10 nodes by PageRank score\n",
    "print(\"Top 10 nodes by PageRank score:\")\n",
    "for node, score in sorted_scores[:10]:\n",
    "    print(f\"Node {node}: {score:.5f}\")\n"
   ]
  },
  {
   "cell_type": "markdown",
   "id": "005047ad",
   "metadata": {},
   "source": [
    "### Output a list of the 100 most important papers along with their importance"
   ]
  },
  {
   "cell_type": "markdown",
   "id": "3deb8586",
   "metadata": {},
   "source": [
    "This code calculates and sorts the PageRank scores of nodes in a graph based on the parameters set in the previous code block. The sorted scores are then printed for the top 100 nodes in descending order."
   ]
  },
  {
   "cell_type": "code",
   "execution_count": 54,
   "id": "46d1896d",
   "metadata": {},
   "outputs": [
    {
     "name": "stdout",
     "output_type": "stream",
     "text": [
      "1. Node 9905111: 0.00001\n",
      "2. Node 9710046: 0.00001\n",
      "3. Node 110055: 0.00000\n",
      "4. Node 210157: 0.00000\n",
      "5. Node 7170: 0.00000\n",
      "6. Node 101126: 0.00000\n",
      "7. Node 204089: 0.00000\n",
      "8. Node 9802051: 0.00000\n",
      "9. Node 9809039: 0.00000\n",
      "10. Node 9802067: 0.00000\n",
      "11. Node 9712253: 0.00000\n",
      "12. Node 201253: 0.00000\n",
      "13. Node 11197: 0.00000\n",
      "14. Node 209230: 0.00000\n",
      "15. Node 109162: 0.00000\n",
      "16. Node 204253: 0.00000\n",
      "17. Node 9909061: 0.00000\n",
      "18. Node 9611190: 0.00000\n",
      "19. Node 207130: 0.00000\n",
      "20. Node 207116: 0.00000\n",
      "21. Node 111208: 0.00000\n",
      "22. Node 209241: 0.00000\n",
      "23. Node 9906142: 0.00000\n",
      "24. Node 210292: 0.00000\n",
      "25. Node 9806199: 0.00000\n",
      "26. Node 9807171: 0.00000\n",
      "27. Node 211245: 0.00000\n",
      "28. Node 9906018: 0.00000\n",
      "29. Node 9202: 0.00000\n",
      "30. Node 3190: 0.00000\n",
      "31. Node 7195: 0.00000\n",
      "32. Node 106048: 0.00000\n",
      "33. Node 210224: 0.00000\n",
      "34. Node 206063: 0.00000\n",
      "35. Node 9812061: 0.00000\n",
      "36. Node 9908004: 0.00000\n",
      "37. Node 9705131: 0.00000\n",
      "38. Node 211178: 0.00000\n",
      "39. Node 203048: 0.00000\n",
      "40. Node 9912164: 0.00000\n",
      "41. Node 303185: 0.00000\n",
      "42. Node 108172: 0.00000\n",
      "43. Node 9801182: 0.00000\n",
      "44. Node 9803072: 0.00000\n",
      "45. Node 203157: 0.00000\n",
      "46. Node 110274: 0.00000\n",
      "47. Node 104031: 0.00000\n",
      "48. Node 303256: 0.00000\n",
      "49. Node 206038: 0.00000\n",
      "50. Node 9710231: 0.00000\n",
      "51. Node 302125: 0.00000\n",
      "52. Node 9806123: 0.00000\n",
      "53. Node 109212: 0.00000\n",
      "54. Node 111284: 0.00000\n",
      "55. Node 303191: 0.00000\n",
      "56. Node 9801132: 0.00000\n",
      "57. Node 107081: 0.00000\n",
      "58. Node 106201: 0.00000\n",
      "59. Node 3086: 0.00000\n",
      "60. Node 9611184: 0.00000\n",
      "61. Node 9911022: 0.00000\n",
      "62. Node 303072: 0.00000\n",
      "63. Node 209169: 0.00000\n",
      "64. Node 9903268: 0.00000\n",
      "65. Node 208142: 0.00000\n",
      "66. Node 9709172: 0.00000\n",
      "67. Node 9908199: 0.00000\n",
      "68. Node 203101: 0.00000\n",
      "69. Node 205060: 0.00000\n",
      "70. Node 9912271: 0.00000\n",
      "71. Node 9505052: 0.00000\n",
      "72. Node 101036: 0.00000\n",
      "73. Node 8241: 0.00000\n",
      "74. Node 9812072: 0.00000\n",
      "75. Node 9708009: 0.00000\n",
      "76. Node 9708164: 0.00000\n",
      "77. Node 9811093: 0.00000\n",
      "78. Node 9901050: 0.00000\n",
      "79. Node 210249: 0.00000\n",
      "80. Node 212253: 0.00000\n",
      "81. Node 9612192: 0.00000\n",
      "82. Node 9506171: 0.00000\n",
      "83. Node 102085: 0.00000\n",
      "84. Node 109092: 0.00000\n",
      "85. Node 9910053: 0.00000\n",
      "86. Node 12062: 0.00000\n",
      "87. Node 2016: 0.00000\n",
      "88. Node 9305040: 0.00000\n",
      "89. Node 9908171: 0.00000\n",
      "90. Node 9806104: 0.00000\n",
      "91. Node 9811019: 0.00000\n",
      "92. Node 9709062: 0.00000\n",
      "93. Node 2034: 0.00000\n",
      "94. Node 9801144: 0.00000\n",
      "95. Node 212313: 0.00000\n",
      "96. Node 302191: 0.00000\n",
      "97. Node 9603074: 0.00000\n",
      "98. Node 9611203: 0.00000\n",
      "99. Node 207105: 0.00000\n",
      "100. Node 9907123: 0.00000\n"
     ]
    }
   ],
   "source": [
    "# Sort nodes by PageRank score in descending order\n",
    "pagerank_scores = {i: score for i, score in enumerate(pagerank)}\n",
    "sorted_scores = sorted(pagerank_scores.items(), key=lambda x: x[1], reverse=True)\n",
    "\n",
    "# Print top 100 nodes by PageRank score\n",
    "top_nodes = [(node, score) for node, score in sorted_scores[:100]]\n",
    "for i, (node, score) in enumerate(top_nodes):\n",
    "    print(f\"{i+1}. Node {node}: {score:.5f}\")"
   ]
  },
  {
   "cell_type": "markdown",
   "id": "b0ba2208",
   "metadata": {},
   "source": [
    "### Visualize your results"
   ]
  },
  {
   "cell_type": "markdown",
   "id": "bdccdd62",
   "metadata": {},
   "source": [
    "This code uses the plotly library to create a line plot of the top 100 PageRank scores, where the x-axis shows the rank and the y-axis shows the score."
   ]
  },
  {
   "cell_type": "code",
   "execution_count": 52,
   "id": "7e08329d",
   "metadata": {},
   "outputs": [
    {
     "data": {
      "application/vnd.plotly.v1+json": {
       "config": {
        "plotlyServerURL": "https://plot.ly"
       },
       "data": [
        {
         "mode": "lines",
         "type": "scatter",
         "x": [
          1,
          2,
          3,
          4,
          5,
          6,
          7,
          8,
          9,
          10,
          11,
          12,
          13,
          14,
          15,
          16,
          17,
          18,
          19,
          20,
          21,
          22,
          23,
          24,
          25,
          26,
          27,
          28,
          29,
          30,
          31,
          32,
          33,
          34,
          35,
          36,
          37,
          38,
          39,
          40,
          41,
          42,
          43,
          44,
          45,
          46,
          47,
          48,
          49,
          50,
          51,
          52,
          53,
          54,
          55,
          56,
          57,
          58,
          59,
          60,
          61,
          62,
          63,
          64,
          65,
          66,
          67,
          68,
          69,
          70,
          71,
          72,
          73,
          74,
          75,
          76,
          77,
          78,
          79,
          80,
          81,
          82,
          83,
          84,
          85,
          86,
          87,
          88,
          89,
          90,
          91,
          92,
          93,
          94,
          95,
          96,
          97,
          98,
          99,
          100
         ],
         "y": [
          6.965625349687366e-06,
          5.394032824051406e-06,
          3.948526722476492e-06,
          3.6222994902376864e-06,
          3.536144699806222e-06,
          3.501901045715565e-06,
          3.2954419270799485e-06,
          2.9756058170474594e-06,
          2.955024115620968e-06,
          2.8806771802646826e-06,
          2.747499356070012e-06,
          2.6815377551240886e-06,
          2.630982719154974e-06,
          2.559465866780909e-06,
          2.5456822888302204e-06,
          2.4989301130178578e-06,
          2.4806320748877766e-06,
          2.4797098916915013e-06,
          2.465326347333189e-06,
          2.415173569106529e-06,
          2.358411081477327e-06,
          2.3537785708864337e-06,
          2.306227263295216e-06,
          2.287075150947944e-06,
          2.261887416139103e-06,
          2.2457181701683e-06,
          2.2270372712791742e-06,
          2.1974010381963283e-06,
          2.1519487120383043e-06,
          2.1499612480644577e-06,
          2.053440547346853e-06,
          2.0353397133708257e-06,
          2.029285796602844e-06,
          1.95974753078466e-06,
          1.9538312371968042e-06,
          1.9160511956293047e-06,
          1.8956986504795023e-06,
          1.8931887203883194e-06,
          1.8712402654094875e-06,
          1.7962974927858031e-06,
          1.755273039292129e-06,
          1.7455601453237292e-06,
          1.7113010057341086e-06,
          1.703912291877877e-06,
          1.6649146685860924e-06,
          1.651300009944399e-06,
          1.6506002976485073e-06,
          1.6487004068069763e-06,
          1.6374363234266597e-06,
          1.6155748828303625e-06,
          1.6126403411222492e-06,
          1.610903279071156e-06,
          1.6106349923100657e-06,
          1.607549317724956e-06,
          1.6067114983722528e-06,
          1.5755086219727615e-06,
          1.5599946906471864e-06,
          1.5568961862599525e-06,
          1.5564622797251757e-06,
          1.5231928952961734e-06,
          1.5174991577247626e-06,
          1.5090332629912098e-06,
          1.505927357441057e-06,
          1.5044003226787345e-06,
          1.5002754334268366e-06,
          1.4910285215157696e-06,
          1.4839013448481543e-06,
          1.4758764771328932e-06,
          1.4666685192733377e-06,
          1.4609464624275054e-06,
          1.4509748449284724e-06,
          1.4486733409043206e-06,
          1.4320564170125386e-06,
          1.4134158329287436e-06,
          1.4056045238187155e-06,
          1.4049395874996351e-06,
          1.389275084234783e-06,
          1.3816744284152543e-06,
          1.3808015238749644e-06,
          1.3800868350176646e-06,
          1.3738911910904932e-06,
          1.3709666657730613e-06,
          1.3419211969589013e-06,
          1.338296755938465e-06,
          1.3238960816694858e-06,
          1.3212615474244814e-06,
          1.3175272209526981e-06,
          1.3125977912113577e-06,
          1.3114616746636039e-06,
          1.3107465804737894e-06,
          1.3082977408260455e-06,
          1.305954857093274e-06,
          1.2979865931098226e-06,
          1.2931431042476856e-06,
          1.28384181879087e-06,
          1.2822746772159624e-06,
          1.2799701600483982e-06,
          1.264780698661043e-06,
          1.2644034152885472e-06,
          1.2550794746384912e-06
         ]
        }
       ],
       "layout": {
        "template": {
         "data": {
          "bar": [
           {
            "error_x": {
             "color": "#2a3f5f"
            },
            "error_y": {
             "color": "#2a3f5f"
            },
            "marker": {
             "line": {
              "color": "#E5ECF6",
              "width": 0.5
             },
             "pattern": {
              "fillmode": "overlay",
              "size": 10,
              "solidity": 0.2
             }
            },
            "type": "bar"
           }
          ],
          "barpolar": [
           {
            "marker": {
             "line": {
              "color": "#E5ECF6",
              "width": 0.5
             },
             "pattern": {
              "fillmode": "overlay",
              "size": 10,
              "solidity": 0.2
             }
            },
            "type": "barpolar"
           }
          ],
          "carpet": [
           {
            "aaxis": {
             "endlinecolor": "#2a3f5f",
             "gridcolor": "white",
             "linecolor": "white",
             "minorgridcolor": "white",
             "startlinecolor": "#2a3f5f"
            },
            "baxis": {
             "endlinecolor": "#2a3f5f",
             "gridcolor": "white",
             "linecolor": "white",
             "minorgridcolor": "white",
             "startlinecolor": "#2a3f5f"
            },
            "type": "carpet"
           }
          ],
          "choropleth": [
           {
            "colorbar": {
             "outlinewidth": 0,
             "ticks": ""
            },
            "type": "choropleth"
           }
          ],
          "contour": [
           {
            "colorbar": {
             "outlinewidth": 0,
             "ticks": ""
            },
            "colorscale": [
             [
              0,
              "#0d0887"
             ],
             [
              0.1111111111111111,
              "#46039f"
             ],
             [
              0.2222222222222222,
              "#7201a8"
             ],
             [
              0.3333333333333333,
              "#9c179e"
             ],
             [
              0.4444444444444444,
              "#bd3786"
             ],
             [
              0.5555555555555556,
              "#d8576b"
             ],
             [
              0.6666666666666666,
              "#ed7953"
             ],
             [
              0.7777777777777778,
              "#fb9f3a"
             ],
             [
              0.8888888888888888,
              "#fdca26"
             ],
             [
              1,
              "#f0f921"
             ]
            ],
            "type": "contour"
           }
          ],
          "contourcarpet": [
           {
            "colorbar": {
             "outlinewidth": 0,
             "ticks": ""
            },
            "type": "contourcarpet"
           }
          ],
          "heatmap": [
           {
            "colorbar": {
             "outlinewidth": 0,
             "ticks": ""
            },
            "colorscale": [
             [
              0,
              "#0d0887"
             ],
             [
              0.1111111111111111,
              "#46039f"
             ],
             [
              0.2222222222222222,
              "#7201a8"
             ],
             [
              0.3333333333333333,
              "#9c179e"
             ],
             [
              0.4444444444444444,
              "#bd3786"
             ],
             [
              0.5555555555555556,
              "#d8576b"
             ],
             [
              0.6666666666666666,
              "#ed7953"
             ],
             [
              0.7777777777777778,
              "#fb9f3a"
             ],
             [
              0.8888888888888888,
              "#fdca26"
             ],
             [
              1,
              "#f0f921"
             ]
            ],
            "type": "heatmap"
           }
          ],
          "heatmapgl": [
           {
            "colorbar": {
             "outlinewidth": 0,
             "ticks": ""
            },
            "colorscale": [
             [
              0,
              "#0d0887"
             ],
             [
              0.1111111111111111,
              "#46039f"
             ],
             [
              0.2222222222222222,
              "#7201a8"
             ],
             [
              0.3333333333333333,
              "#9c179e"
             ],
             [
              0.4444444444444444,
              "#bd3786"
             ],
             [
              0.5555555555555556,
              "#d8576b"
             ],
             [
              0.6666666666666666,
              "#ed7953"
             ],
             [
              0.7777777777777778,
              "#fb9f3a"
             ],
             [
              0.8888888888888888,
              "#fdca26"
             ],
             [
              1,
              "#f0f921"
             ]
            ],
            "type": "heatmapgl"
           }
          ],
          "histogram": [
           {
            "marker": {
             "pattern": {
              "fillmode": "overlay",
              "size": 10,
              "solidity": 0.2
             }
            },
            "type": "histogram"
           }
          ],
          "histogram2d": [
           {
            "colorbar": {
             "outlinewidth": 0,
             "ticks": ""
            },
            "colorscale": [
             [
              0,
              "#0d0887"
             ],
             [
              0.1111111111111111,
              "#46039f"
             ],
             [
              0.2222222222222222,
              "#7201a8"
             ],
             [
              0.3333333333333333,
              "#9c179e"
             ],
             [
              0.4444444444444444,
              "#bd3786"
             ],
             [
              0.5555555555555556,
              "#d8576b"
             ],
             [
              0.6666666666666666,
              "#ed7953"
             ],
             [
              0.7777777777777778,
              "#fb9f3a"
             ],
             [
              0.8888888888888888,
              "#fdca26"
             ],
             [
              1,
              "#f0f921"
             ]
            ],
            "type": "histogram2d"
           }
          ],
          "histogram2dcontour": [
           {
            "colorbar": {
             "outlinewidth": 0,
             "ticks": ""
            },
            "colorscale": [
             [
              0,
              "#0d0887"
             ],
             [
              0.1111111111111111,
              "#46039f"
             ],
             [
              0.2222222222222222,
              "#7201a8"
             ],
             [
              0.3333333333333333,
              "#9c179e"
             ],
             [
              0.4444444444444444,
              "#bd3786"
             ],
             [
              0.5555555555555556,
              "#d8576b"
             ],
             [
              0.6666666666666666,
              "#ed7953"
             ],
             [
              0.7777777777777778,
              "#fb9f3a"
             ],
             [
              0.8888888888888888,
              "#fdca26"
             ],
             [
              1,
              "#f0f921"
             ]
            ],
            "type": "histogram2dcontour"
           }
          ],
          "mesh3d": [
           {
            "colorbar": {
             "outlinewidth": 0,
             "ticks": ""
            },
            "type": "mesh3d"
           }
          ],
          "parcoords": [
           {
            "line": {
             "colorbar": {
              "outlinewidth": 0,
              "ticks": ""
             }
            },
            "type": "parcoords"
           }
          ],
          "pie": [
           {
            "automargin": true,
            "type": "pie"
           }
          ],
          "scatter": [
           {
            "fillpattern": {
             "fillmode": "overlay",
             "size": 10,
             "solidity": 0.2
            },
            "type": "scatter"
           }
          ],
          "scatter3d": [
           {
            "line": {
             "colorbar": {
              "outlinewidth": 0,
              "ticks": ""
             }
            },
            "marker": {
             "colorbar": {
              "outlinewidth": 0,
              "ticks": ""
             }
            },
            "type": "scatter3d"
           }
          ],
          "scattercarpet": [
           {
            "marker": {
             "colorbar": {
              "outlinewidth": 0,
              "ticks": ""
             }
            },
            "type": "scattercarpet"
           }
          ],
          "scattergeo": [
           {
            "marker": {
             "colorbar": {
              "outlinewidth": 0,
              "ticks": ""
             }
            },
            "type": "scattergeo"
           }
          ],
          "scattergl": [
           {
            "marker": {
             "colorbar": {
              "outlinewidth": 0,
              "ticks": ""
             }
            },
            "type": "scattergl"
           }
          ],
          "scattermapbox": [
           {
            "marker": {
             "colorbar": {
              "outlinewidth": 0,
              "ticks": ""
             }
            },
            "type": "scattermapbox"
           }
          ],
          "scatterpolar": [
           {
            "marker": {
             "colorbar": {
              "outlinewidth": 0,
              "ticks": ""
             }
            },
            "type": "scatterpolar"
           }
          ],
          "scatterpolargl": [
           {
            "marker": {
             "colorbar": {
              "outlinewidth": 0,
              "ticks": ""
             }
            },
            "type": "scatterpolargl"
           }
          ],
          "scatterternary": [
           {
            "marker": {
             "colorbar": {
              "outlinewidth": 0,
              "ticks": ""
             }
            },
            "type": "scatterternary"
           }
          ],
          "surface": [
           {
            "colorbar": {
             "outlinewidth": 0,
             "ticks": ""
            },
            "colorscale": [
             [
              0,
              "#0d0887"
             ],
             [
              0.1111111111111111,
              "#46039f"
             ],
             [
              0.2222222222222222,
              "#7201a8"
             ],
             [
              0.3333333333333333,
              "#9c179e"
             ],
             [
              0.4444444444444444,
              "#bd3786"
             ],
             [
              0.5555555555555556,
              "#d8576b"
             ],
             [
              0.6666666666666666,
              "#ed7953"
             ],
             [
              0.7777777777777778,
              "#fb9f3a"
             ],
             [
              0.8888888888888888,
              "#fdca26"
             ],
             [
              1,
              "#f0f921"
             ]
            ],
            "type": "surface"
           }
          ],
          "table": [
           {
            "cells": {
             "fill": {
              "color": "#EBF0F8"
             },
             "line": {
              "color": "white"
             }
            },
            "header": {
             "fill": {
              "color": "#C8D4E3"
             },
             "line": {
              "color": "white"
             }
            },
            "type": "table"
           }
          ]
         },
         "layout": {
          "annotationdefaults": {
           "arrowcolor": "#2a3f5f",
           "arrowhead": 0,
           "arrowwidth": 1
          },
          "autotypenumbers": "strict",
          "coloraxis": {
           "colorbar": {
            "outlinewidth": 0,
            "ticks": ""
           }
          },
          "colorscale": {
           "diverging": [
            [
             0,
             "#8e0152"
            ],
            [
             0.1,
             "#c51b7d"
            ],
            [
             0.2,
             "#de77ae"
            ],
            [
             0.3,
             "#f1b6da"
            ],
            [
             0.4,
             "#fde0ef"
            ],
            [
             0.5,
             "#f7f7f7"
            ],
            [
             0.6,
             "#e6f5d0"
            ],
            [
             0.7,
             "#b8e186"
            ],
            [
             0.8,
             "#7fbc41"
            ],
            [
             0.9,
             "#4d9221"
            ],
            [
             1,
             "#276419"
            ]
           ],
           "sequential": [
            [
             0,
             "#0d0887"
            ],
            [
             0.1111111111111111,
             "#46039f"
            ],
            [
             0.2222222222222222,
             "#7201a8"
            ],
            [
             0.3333333333333333,
             "#9c179e"
            ],
            [
             0.4444444444444444,
             "#bd3786"
            ],
            [
             0.5555555555555556,
             "#d8576b"
            ],
            [
             0.6666666666666666,
             "#ed7953"
            ],
            [
             0.7777777777777778,
             "#fb9f3a"
            ],
            [
             0.8888888888888888,
             "#fdca26"
            ],
            [
             1,
             "#f0f921"
            ]
           ],
           "sequentialminus": [
            [
             0,
             "#0d0887"
            ],
            [
             0.1111111111111111,
             "#46039f"
            ],
            [
             0.2222222222222222,
             "#7201a8"
            ],
            [
             0.3333333333333333,
             "#9c179e"
            ],
            [
             0.4444444444444444,
             "#bd3786"
            ],
            [
             0.5555555555555556,
             "#d8576b"
            ],
            [
             0.6666666666666666,
             "#ed7953"
            ],
            [
             0.7777777777777778,
             "#fb9f3a"
            ],
            [
             0.8888888888888888,
             "#fdca26"
            ],
            [
             1,
             "#f0f921"
            ]
           ]
          },
          "colorway": [
           "#636efa",
           "#EF553B",
           "#00cc96",
           "#ab63fa",
           "#FFA15A",
           "#19d3f3",
           "#FF6692",
           "#B6E880",
           "#FF97FF",
           "#FECB52"
          ],
          "font": {
           "color": "#2a3f5f"
          },
          "geo": {
           "bgcolor": "white",
           "lakecolor": "white",
           "landcolor": "#E5ECF6",
           "showlakes": true,
           "showland": true,
           "subunitcolor": "white"
          },
          "hoverlabel": {
           "align": "left"
          },
          "hovermode": "closest",
          "mapbox": {
           "style": "light"
          },
          "paper_bgcolor": "white",
          "plot_bgcolor": "#E5ECF6",
          "polar": {
           "angularaxis": {
            "gridcolor": "white",
            "linecolor": "white",
            "ticks": ""
           },
           "bgcolor": "#E5ECF6",
           "radialaxis": {
            "gridcolor": "white",
            "linecolor": "white",
            "ticks": ""
           }
          },
          "scene": {
           "xaxis": {
            "backgroundcolor": "#E5ECF6",
            "gridcolor": "white",
            "gridwidth": 2,
            "linecolor": "white",
            "showbackground": true,
            "ticks": "",
            "zerolinecolor": "white"
           },
           "yaxis": {
            "backgroundcolor": "#E5ECF6",
            "gridcolor": "white",
            "gridwidth": 2,
            "linecolor": "white",
            "showbackground": true,
            "ticks": "",
            "zerolinecolor": "white"
           },
           "zaxis": {
            "backgroundcolor": "#E5ECF6",
            "gridcolor": "white",
            "gridwidth": 2,
            "linecolor": "white",
            "showbackground": true,
            "ticks": "",
            "zerolinecolor": "white"
           }
          },
          "shapedefaults": {
           "line": {
            "color": "#2a3f5f"
           }
          },
          "ternary": {
           "aaxis": {
            "gridcolor": "white",
            "linecolor": "white",
            "ticks": ""
           },
           "baxis": {
            "gridcolor": "white",
            "linecolor": "white",
            "ticks": ""
           },
           "bgcolor": "#E5ECF6",
           "caxis": {
            "gridcolor": "white",
            "linecolor": "white",
            "ticks": ""
           }
          },
          "title": {
           "x": 0.05
          },
          "xaxis": {
           "automargin": true,
           "gridcolor": "white",
           "linecolor": "white",
           "ticks": "",
           "title": {
            "standoff": 15
           },
           "zerolinecolor": "white",
           "zerolinewidth": 2
          },
          "yaxis": {
           "automargin": true,
           "gridcolor": "white",
           "linecolor": "white",
           "ticks": "",
           "title": {
            "standoff": 15
           },
           "zerolinecolor": "white",
           "zerolinewidth": 2
          }
         }
        },
        "title": {
         "text": "TOP PageRank Scores  100 Papers"
        },
        "xaxis": {
         "title": {
          "text": "Rank"
         }
        },
        "yaxis": {
         "title": {
          "text": "Score"
         }
        }
       }
      },
      "text/html": [
       "<div>                            <div id=\"3cfced53-6ed4-479e-a653-d17c4469130b\" class=\"plotly-graph-div\" style=\"height:525px; width:100%;\"></div>            <script type=\"text/javascript\">                require([\"plotly\"], function(Plotly) {                    window.PLOTLYENV=window.PLOTLYENV || {};                                    if (document.getElementById(\"3cfced53-6ed4-479e-a653-d17c4469130b\")) {                    Plotly.newPlot(                        \"3cfced53-6ed4-479e-a653-d17c4469130b\",                        [{\"mode\":\"lines\",\"x\":[1,2,3,4,5,6,7,8,9,10,11,12,13,14,15,16,17,18,19,20,21,22,23,24,25,26,27,28,29,30,31,32,33,34,35,36,37,38,39,40,41,42,43,44,45,46,47,48,49,50,51,52,53,54,55,56,57,58,59,60,61,62,63,64,65,66,67,68,69,70,71,72,73,74,75,76,77,78,79,80,81,82,83,84,85,86,87,88,89,90,91,92,93,94,95,96,97,98,99,100],\"y\":[6.965625349687366e-06,5.394032824051406e-06,3.948526722476492e-06,3.6222994902376864e-06,3.536144699806222e-06,3.501901045715565e-06,3.2954419270799485e-06,2.9756058170474594e-06,2.955024115620968e-06,2.8806771802646826e-06,2.747499356070012e-06,2.6815377551240886e-06,2.630982719154974e-06,2.559465866780909e-06,2.5456822888302204e-06,2.4989301130178578e-06,2.4806320748877766e-06,2.4797098916915013e-06,2.465326347333189e-06,2.415173569106529e-06,2.358411081477327e-06,2.3537785708864337e-06,2.306227263295216e-06,2.287075150947944e-06,2.261887416139103e-06,2.2457181701683e-06,2.2270372712791742e-06,2.1974010381963283e-06,2.1519487120383043e-06,2.1499612480644577e-06,2.053440547346853e-06,2.0353397133708257e-06,2.029285796602844e-06,1.95974753078466e-06,1.9538312371968042e-06,1.9160511956293047e-06,1.8956986504795023e-06,1.8931887203883194e-06,1.8712402654094875e-06,1.7962974927858031e-06,1.755273039292129e-06,1.7455601453237292e-06,1.7113010057341086e-06,1.703912291877877e-06,1.6649146685860924e-06,1.651300009944399e-06,1.6506002976485073e-06,1.6487004068069763e-06,1.6374363234266597e-06,1.6155748828303625e-06,1.6126403411222492e-06,1.610903279071156e-06,1.6106349923100657e-06,1.607549317724956e-06,1.6067114983722528e-06,1.5755086219727615e-06,1.5599946906471864e-06,1.5568961862599525e-06,1.5564622797251757e-06,1.5231928952961734e-06,1.5174991577247626e-06,1.5090332629912098e-06,1.505927357441057e-06,1.5044003226787345e-06,1.5002754334268366e-06,1.4910285215157696e-06,1.4839013448481543e-06,1.4758764771328932e-06,1.4666685192733377e-06,1.4609464624275054e-06,1.4509748449284724e-06,1.4486733409043206e-06,1.4320564170125386e-06,1.4134158329287436e-06,1.4056045238187155e-06,1.4049395874996351e-06,1.389275084234783e-06,1.3816744284152543e-06,1.3808015238749644e-06,1.3800868350176646e-06,1.3738911910904932e-06,1.3709666657730613e-06,1.3419211969589013e-06,1.338296755938465e-06,1.3238960816694858e-06,1.3212615474244814e-06,1.3175272209526981e-06,1.3125977912113577e-06,1.3114616746636039e-06,1.3107465804737894e-06,1.3082977408260455e-06,1.305954857093274e-06,1.2979865931098226e-06,1.2931431042476856e-06,1.28384181879087e-06,1.2822746772159624e-06,1.2799701600483982e-06,1.264780698661043e-06,1.2644034152885472e-06,1.2550794746384912e-06],\"type\":\"scatter\"}],                        {\"title\":{\"text\":\"TOP PageRank Scores  100 Papers\"},\"xaxis\":{\"title\":{\"text\":\"Rank\"}},\"yaxis\":{\"title\":{\"text\":\"Score\"}},\"template\":{\"data\":{\"histogram2dcontour\":[{\"type\":\"histogram2dcontour\",\"colorbar\":{\"outlinewidth\":0,\"ticks\":\"\"},\"colorscale\":[[0.0,\"#0d0887\"],[0.1111111111111111,\"#46039f\"],[0.2222222222222222,\"#7201a8\"],[0.3333333333333333,\"#9c179e\"],[0.4444444444444444,\"#bd3786\"],[0.5555555555555556,\"#d8576b\"],[0.6666666666666666,\"#ed7953\"],[0.7777777777777778,\"#fb9f3a\"],[0.8888888888888888,\"#fdca26\"],[1.0,\"#f0f921\"]]}],\"choropleth\":[{\"type\":\"choropleth\",\"colorbar\":{\"outlinewidth\":0,\"ticks\":\"\"}}],\"histogram2d\":[{\"type\":\"histogram2d\",\"colorbar\":{\"outlinewidth\":0,\"ticks\":\"\"},\"colorscale\":[[0.0,\"#0d0887\"],[0.1111111111111111,\"#46039f\"],[0.2222222222222222,\"#7201a8\"],[0.3333333333333333,\"#9c179e\"],[0.4444444444444444,\"#bd3786\"],[0.5555555555555556,\"#d8576b\"],[0.6666666666666666,\"#ed7953\"],[0.7777777777777778,\"#fb9f3a\"],[0.8888888888888888,\"#fdca26\"],[1.0,\"#f0f921\"]]}],\"heatmap\":[{\"type\":\"heatmap\",\"colorbar\":{\"outlinewidth\":0,\"ticks\":\"\"},\"colorscale\":[[0.0,\"#0d0887\"],[0.1111111111111111,\"#46039f\"],[0.2222222222222222,\"#7201a8\"],[0.3333333333333333,\"#9c179e\"],[0.4444444444444444,\"#bd3786\"],[0.5555555555555556,\"#d8576b\"],[0.6666666666666666,\"#ed7953\"],[0.7777777777777778,\"#fb9f3a\"],[0.8888888888888888,\"#fdca26\"],[1.0,\"#f0f921\"]]}],\"heatmapgl\":[{\"type\":\"heatmapgl\",\"colorbar\":{\"outlinewidth\":0,\"ticks\":\"\"},\"colorscale\":[[0.0,\"#0d0887\"],[0.1111111111111111,\"#46039f\"],[0.2222222222222222,\"#7201a8\"],[0.3333333333333333,\"#9c179e\"],[0.4444444444444444,\"#bd3786\"],[0.5555555555555556,\"#d8576b\"],[0.6666666666666666,\"#ed7953\"],[0.7777777777777778,\"#fb9f3a\"],[0.8888888888888888,\"#fdca26\"],[1.0,\"#f0f921\"]]}],\"contourcarpet\":[{\"type\":\"contourcarpet\",\"colorbar\":{\"outlinewidth\":0,\"ticks\":\"\"}}],\"contour\":[{\"type\":\"contour\",\"colorbar\":{\"outlinewidth\":0,\"ticks\":\"\"},\"colorscale\":[[0.0,\"#0d0887\"],[0.1111111111111111,\"#46039f\"],[0.2222222222222222,\"#7201a8\"],[0.3333333333333333,\"#9c179e\"],[0.4444444444444444,\"#bd3786\"],[0.5555555555555556,\"#d8576b\"],[0.6666666666666666,\"#ed7953\"],[0.7777777777777778,\"#fb9f3a\"],[0.8888888888888888,\"#fdca26\"],[1.0,\"#f0f921\"]]}],\"surface\":[{\"type\":\"surface\",\"colorbar\":{\"outlinewidth\":0,\"ticks\":\"\"},\"colorscale\":[[0.0,\"#0d0887\"],[0.1111111111111111,\"#46039f\"],[0.2222222222222222,\"#7201a8\"],[0.3333333333333333,\"#9c179e\"],[0.4444444444444444,\"#bd3786\"],[0.5555555555555556,\"#d8576b\"],[0.6666666666666666,\"#ed7953\"],[0.7777777777777778,\"#fb9f3a\"],[0.8888888888888888,\"#fdca26\"],[1.0,\"#f0f921\"]]}],\"mesh3d\":[{\"type\":\"mesh3d\",\"colorbar\":{\"outlinewidth\":0,\"ticks\":\"\"}}],\"scatter\":[{\"fillpattern\":{\"fillmode\":\"overlay\",\"size\":10,\"solidity\":0.2},\"type\":\"scatter\"}],\"parcoords\":[{\"type\":\"parcoords\",\"line\":{\"colorbar\":{\"outlinewidth\":0,\"ticks\":\"\"}}}],\"scatterpolargl\":[{\"type\":\"scatterpolargl\",\"marker\":{\"colorbar\":{\"outlinewidth\":0,\"ticks\":\"\"}}}],\"bar\":[{\"error_x\":{\"color\":\"#2a3f5f\"},\"error_y\":{\"color\":\"#2a3f5f\"},\"marker\":{\"line\":{\"color\":\"#E5ECF6\",\"width\":0.5},\"pattern\":{\"fillmode\":\"overlay\",\"size\":10,\"solidity\":0.2}},\"type\":\"bar\"}],\"scattergeo\":[{\"type\":\"scattergeo\",\"marker\":{\"colorbar\":{\"outlinewidth\":0,\"ticks\":\"\"}}}],\"scatterpolar\":[{\"type\":\"scatterpolar\",\"marker\":{\"colorbar\":{\"outlinewidth\":0,\"ticks\":\"\"}}}],\"histogram\":[{\"marker\":{\"pattern\":{\"fillmode\":\"overlay\",\"size\":10,\"solidity\":0.2}},\"type\":\"histogram\"}],\"scattergl\":[{\"type\":\"scattergl\",\"marker\":{\"colorbar\":{\"outlinewidth\":0,\"ticks\":\"\"}}}],\"scatter3d\":[{\"type\":\"scatter3d\",\"line\":{\"colorbar\":{\"outlinewidth\":0,\"ticks\":\"\"}},\"marker\":{\"colorbar\":{\"outlinewidth\":0,\"ticks\":\"\"}}}],\"scattermapbox\":[{\"type\":\"scattermapbox\",\"marker\":{\"colorbar\":{\"outlinewidth\":0,\"ticks\":\"\"}}}],\"scatterternary\":[{\"type\":\"scatterternary\",\"marker\":{\"colorbar\":{\"outlinewidth\":0,\"ticks\":\"\"}}}],\"scattercarpet\":[{\"type\":\"scattercarpet\",\"marker\":{\"colorbar\":{\"outlinewidth\":0,\"ticks\":\"\"}}}],\"carpet\":[{\"aaxis\":{\"endlinecolor\":\"#2a3f5f\",\"gridcolor\":\"white\",\"linecolor\":\"white\",\"minorgridcolor\":\"white\",\"startlinecolor\":\"#2a3f5f\"},\"baxis\":{\"endlinecolor\":\"#2a3f5f\",\"gridcolor\":\"white\",\"linecolor\":\"white\",\"minorgridcolor\":\"white\",\"startlinecolor\":\"#2a3f5f\"},\"type\":\"carpet\"}],\"table\":[{\"cells\":{\"fill\":{\"color\":\"#EBF0F8\"},\"line\":{\"color\":\"white\"}},\"header\":{\"fill\":{\"color\":\"#C8D4E3\"},\"line\":{\"color\":\"white\"}},\"type\":\"table\"}],\"barpolar\":[{\"marker\":{\"line\":{\"color\":\"#E5ECF6\",\"width\":0.5},\"pattern\":{\"fillmode\":\"overlay\",\"size\":10,\"solidity\":0.2}},\"type\":\"barpolar\"}],\"pie\":[{\"automargin\":true,\"type\":\"pie\"}]},\"layout\":{\"autotypenumbers\":\"strict\",\"colorway\":[\"#636efa\",\"#EF553B\",\"#00cc96\",\"#ab63fa\",\"#FFA15A\",\"#19d3f3\",\"#FF6692\",\"#B6E880\",\"#FF97FF\",\"#FECB52\"],\"font\":{\"color\":\"#2a3f5f\"},\"hovermode\":\"closest\",\"hoverlabel\":{\"align\":\"left\"},\"paper_bgcolor\":\"white\",\"plot_bgcolor\":\"#E5ECF6\",\"polar\":{\"bgcolor\":\"#E5ECF6\",\"angularaxis\":{\"gridcolor\":\"white\",\"linecolor\":\"white\",\"ticks\":\"\"},\"radialaxis\":{\"gridcolor\":\"white\",\"linecolor\":\"white\",\"ticks\":\"\"}},\"ternary\":{\"bgcolor\":\"#E5ECF6\",\"aaxis\":{\"gridcolor\":\"white\",\"linecolor\":\"white\",\"ticks\":\"\"},\"baxis\":{\"gridcolor\":\"white\",\"linecolor\":\"white\",\"ticks\":\"\"},\"caxis\":{\"gridcolor\":\"white\",\"linecolor\":\"white\",\"ticks\":\"\"}},\"coloraxis\":{\"colorbar\":{\"outlinewidth\":0,\"ticks\":\"\"}},\"colorscale\":{\"sequential\":[[0.0,\"#0d0887\"],[0.1111111111111111,\"#46039f\"],[0.2222222222222222,\"#7201a8\"],[0.3333333333333333,\"#9c179e\"],[0.4444444444444444,\"#bd3786\"],[0.5555555555555556,\"#d8576b\"],[0.6666666666666666,\"#ed7953\"],[0.7777777777777778,\"#fb9f3a\"],[0.8888888888888888,\"#fdca26\"],[1.0,\"#f0f921\"]],\"sequentialminus\":[[0.0,\"#0d0887\"],[0.1111111111111111,\"#46039f\"],[0.2222222222222222,\"#7201a8\"],[0.3333333333333333,\"#9c179e\"],[0.4444444444444444,\"#bd3786\"],[0.5555555555555556,\"#d8576b\"],[0.6666666666666666,\"#ed7953\"],[0.7777777777777778,\"#fb9f3a\"],[0.8888888888888888,\"#fdca26\"],[1.0,\"#f0f921\"]],\"diverging\":[[0,\"#8e0152\"],[0.1,\"#c51b7d\"],[0.2,\"#de77ae\"],[0.3,\"#f1b6da\"],[0.4,\"#fde0ef\"],[0.5,\"#f7f7f7\"],[0.6,\"#e6f5d0\"],[0.7,\"#b8e186\"],[0.8,\"#7fbc41\"],[0.9,\"#4d9221\"],[1,\"#276419\"]]},\"xaxis\":{\"gridcolor\":\"white\",\"linecolor\":\"white\",\"ticks\":\"\",\"title\":{\"standoff\":15},\"zerolinecolor\":\"white\",\"automargin\":true,\"zerolinewidth\":2},\"yaxis\":{\"gridcolor\":\"white\",\"linecolor\":\"white\",\"ticks\":\"\",\"title\":{\"standoff\":15},\"zerolinecolor\":\"white\",\"automargin\":true,\"zerolinewidth\":2},\"scene\":{\"xaxis\":{\"backgroundcolor\":\"#E5ECF6\",\"gridcolor\":\"white\",\"linecolor\":\"white\",\"showbackground\":true,\"ticks\":\"\",\"zerolinecolor\":\"white\",\"gridwidth\":2},\"yaxis\":{\"backgroundcolor\":\"#E5ECF6\",\"gridcolor\":\"white\",\"linecolor\":\"white\",\"showbackground\":true,\"ticks\":\"\",\"zerolinecolor\":\"white\",\"gridwidth\":2},\"zaxis\":{\"backgroundcolor\":\"#E5ECF6\",\"gridcolor\":\"white\",\"linecolor\":\"white\",\"showbackground\":true,\"ticks\":\"\",\"zerolinecolor\":\"white\",\"gridwidth\":2}},\"shapedefaults\":{\"line\":{\"color\":\"#2a3f5f\"}},\"annotationdefaults\":{\"arrowcolor\":\"#2a3f5f\",\"arrowhead\":0,\"arrowwidth\":1},\"geo\":{\"bgcolor\":\"white\",\"landcolor\":\"#E5ECF6\",\"subunitcolor\":\"white\",\"showland\":true,\"showlakes\":true,\"lakecolor\":\"white\"},\"title\":{\"x\":0.05},\"mapbox\":{\"style\":\"light\"}}}},                        {\"responsive\": true}                    ).then(function(){\n",
       "                            \n",
       "var gd = document.getElementById('3cfced53-6ed4-479e-a653-d17c4469130b');\n",
       "var x = new MutationObserver(function (mutations, observer) {{\n",
       "        var display = window.getComputedStyle(gd).display;\n",
       "        if (!display || display === 'none') {{\n",
       "            console.log([gd, 'removed!']);\n",
       "            Plotly.purge(gd);\n",
       "            observer.disconnect();\n",
       "        }}\n",
       "}});\n",
       "\n",
       "// Listen for the removal of the full notebook cells\n",
       "var notebookContainer = gd.closest('#notebook-container');\n",
       "if (notebookContainer) {{\n",
       "    x.observe(notebookContainer, {childList: true});\n",
       "}}\n",
       "\n",
       "// Listen for the clearing of the current output cell\n",
       "var outputEl = gd.closest('.output');\n",
       "if (outputEl) {{\n",
       "    x.observe(outputEl, {childList: true});\n",
       "}}\n",
       "\n",
       "                        })                };                });            </script>        </div>"
      ]
     },
     "metadata": {},
     "output_type": "display_data"
    }
   ],
   "source": [
    "import plotly.graph_objs as go\n",
    "\n",
    "top_scores = [score for _, score in sorted_scores[:100]]\n",
    "\n",
    "trace = go.Scatter(\n",
    "    x=list(range(1, 101)), \n",
    "    y=top_scores, \n",
    "    mode=\"lines\"\n",
    ")\n",
    "\n",
    "layout = go.Layout(\n",
    "    title=\"TOP PageRank Scores  100 Papers\",\n",
    "    xaxis=dict(title=\"Rank\"),\n",
    "    yaxis=dict(title=\"Score\")\n",
    ")\n",
    "\n",
    "fig = go.Figure(data=[trace], layout=layout)\n",
    "fig.show()"
   ]
  },
  {
   "attachments": {
    "image-3.png": {
     "image/png": "[encoded data removed]"
    }
   },
   "cell_type": "markdown",
   "id": "7f14643f",
   "metadata": {},
   "source": [
    "![image-3.png](attachment:image-3.png)"
   ]
  }
 ],
 "metadata": {
  "kernelspec": {
   "display_name": "Python 3 (ipykernel)",
   "language": "python",
   "name": "python3"
  },
  "language_info": {
   "codemirror_mode": {
    "name": "ipython",
    "version": 3
   },
   "file_extension": ".py",
   "mimetype": "text/x-python",
   "name": "python",
   "nbconvert_exporter": "python",
   "pygments_lexer": "ipython3",
   "version": "3.9.13"
  }
 },
 "nbformat": 4,
 "nbformat_minor": 5
}
