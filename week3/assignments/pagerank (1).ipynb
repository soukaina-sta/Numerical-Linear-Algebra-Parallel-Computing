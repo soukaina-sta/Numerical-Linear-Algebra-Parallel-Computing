{
 "cells": [
  {
   "cell_type": "markdown",
   "id": "87d64ccf",
   "metadata": {},
   "source": [
    "# PageRank "
   ]
  },
  {
   "cell_type": "markdown",
   "id": "a426d8f9",
   "metadata": {},
   "source": [
    "### Use this cell for all your imports"
   ]
  },
  {
   "cell_type": "code",
   "execution_count": 96,
   "id": "40623a0d",
   "metadata": {},
   "outputs": [],
   "source": [
    "import numpy as np\n",
    "import pandas as pd\n",
    "import scipy.sparse as sp\n",
    "import networkx as nx\n",
    "import matplotlib.pyplot as plt\n",
    "from scipy.sparse import coo_matrix\n",
    "import plotly.graph_objs as go\n",
    "from sklearn.preprocessing import normalize"
   ]
  },
  {
   "cell_type": "markdown",
   "id": "164f305b",
   "metadata": {},
   "source": [
    "### You will be working with the file data.txt. Use this cell to load its content into the appropriate data structure."
   ]
  },
  {
   "cell_type": "markdown",
   "id": "da4b3747",
   "metadata": {},
   "source": [
    "This code reads the data from the \"data.txt\" file while ignoring the first three lines, which are considered as headers or comments. It stores the remaining data in a list of tuples, where each tuple represents a pair of nodes in a graph. The nodes are represented by integers, and each tuple corresponds to a connection between two nodes."
   ]
  },
  {
   "cell_type": "code",
   "execution_count": 108,
   "id": "c96c037d",
   "metadata": {},
   "outputs": [
    {
     "name": "stdout",
     "output_type": "stream",
     "text": [
      "[   1001    1001    1001 ... 9912286 9912286 9912286]\n",
      "[9304045 9308122 9309097 ... 9808140 9810068 9901023]\n"
     ]
    }
   ],
   "source": [
    "with open('data.txt', 'r') as f:\n",
    "    list1, list2 = zip(*[x.split() for x in f.readlines()])\n",
    "\n",
    "data1 = np.array(list1)\n",
    "data2 = np.array(list2)\n",
    "\n",
    "data1 = np.delete(data1 ,[0,1,2,3])\n",
    "data2 = np.delete(data2 ,[0,1,2,3])\n",
    "\n",
    "from_node = data1.astype(int)\n",
    "to_node = data2.astype(int)\n",
    "\n",
    "print(from_node)\n",
    "print(to_node)"
   ]
  },
  {
   "cell_type": "code",
   "execution_count": 109,
   "id": "eaf4355b",
   "metadata": {},
   "outputs": [],
   "source": [
    "n = len(from_node)\n",
    "data = np.ones(n)"
   ]
  },
  {
   "cell_type": "markdown",
   "id": "d0d64d05",
   "metadata": {},
   "source": [
    "## Use this cell to normalize the matrix as you see fit."
   ]
  },
  {
   "cell_type": "markdown",
   "id": "2fd32856",
   "metadata": {},
   "source": [
    "This code creates an adjacency matrix from a text file containing a list of links between nodes, stores the adjacency matrix in the COO (coordinate) format, and then normalizes the adjacency matrix."
   ]
  },
  {
   "cell_type": "code",
   "execution_count": 112,
   "id": "e787e47d",
   "metadata": {},
   "outputs": [],
   "source": [
    "# Create the Adjacency matrix and store it in the coo format \n",
    "adjacency_matrix = coo_matrix((data, (from_node,to_node)))\n",
    "#normalize matrix by rows\n",
    "normalized_matrix = normalize(adjacency_matrix, norm='l1', axis=1)"
   ]
  },
  {
   "cell_type": "markdown",
   "id": "5a4ee89a",
   "metadata": {},
   "source": [
    "### Apply the PageRank algorithm to the matrix you created."
   ]
  },
  {
   "cell_type": "markdown",
   "id": "ceefb8aa",
   "metadata": {},
   "source": [
    "This code runs the PageRank algorithm on a normalized adjacency matrix, using predefined parameters and prints the top 10 nodes by PageRank score."
   ]
  },
  {
   "cell_type": "code",
   "execution_count": 119,
   "id": "ae9319ef",
   "metadata": {},
   "outputs": [
    {
     "name": "stdout",
     "output_type": "stream",
     "text": [
      "Converged after 15 iterations\n",
      "Top 10 nodes by PageRank score:\n",
      "Node 6187: 0.00000\n",
      "Node 10273: 0.00000\n",
      "Node 205224: 0.00000\n",
      "Node 9201015: 0.00000\n",
      "Node 9206056: 0.00000\n",
      "Node 9207016: 0.00000\n",
      "Node 9301082: 0.00000\n",
      "Node 9307086: 0.00000\n",
      "Node 9308141: 0.00000\n",
      "Node 9308150: 0.00000\n"
     ]
    }
   ],
   "source": [
    "# Set PageRank parameters\n",
    "alpha = 0.85  # damping factor\n",
    "max_iter = 100  # maximum number of iterations\n",
    "tolerance = 1e-6  # convergence tolerance\n",
    "\n",
    "# Initialize PageRank scores\n",
    "num_nodes = normalized_matrix.shape[0]\n",
    "pagerank = np.ones(num_nodes) / num_nodes\n",
    "\n",
    "# Run PageRank algorithm\n",
    "for i in range(max_iter):\n",
    "    prev_pagerank = pagerank.copy()\n",
    "    pagerank = normalized_matrix.dot(pagerank) * alpha + (1 - alpha) / num_nodes\n",
    "    delta = np.abs(pagerank - prev_pagerank).sum()\n",
    "    if delta < tolerance:\n",
    "        print(f\"Converged after {i+1} iterations\")\n",
    "        break\n",
    "\n",
    "# Sort nodes by PageRank score in descending order\n",
    "node_scores = {i: score for i, score in enumerate(pagerank)}\n",
    "sorted_scores = sorted(node_scores.items(), key=lambda x: x[1], reverse=True)\n",
    "\n",
    "# Print top 10 nodes by PageRank score\n",
    "print(\"Top 10 nodes by PageRank score:\")\n",
    "for node, score in sorted_scores[:10]:\n",
    "    print(f\"Node {node}: {score:.5f}\")\n"
   ]
  },
  {
   "cell_type": "markdown",
   "id": "005047ad",
   "metadata": {},
   "source": [
    "### Output a list of the 100 most important papers along with their importance"
   ]
  },
  {
   "cell_type": "markdown",
   "id": "3deb8586",
   "metadata": {},
   "source": [
    "This code calculates and sorts the PageRank scores of nodes in a graph based on the parameters set in the previous code block. The sorted scores are then printed for the top 100 nodes in descending order."
   ]
  },
  {
   "cell_type": "code",
   "execution_count": 120,
   "id": "46d1896d",
   "metadata": {},
   "outputs": [
    {
     "name": "stdout",
     "output_type": "stream",
     "text": [
      "1. Node 6187: 0.000000100884820\n",
      "2. Node 10273: 0.000000100884820\n",
      "3. Node 205224: 0.000000100884820\n",
      "4. Node 9201015: 0.000000100884820\n",
      "5. Node 9206056: 0.000000100884820\n",
      "6. Node 9207016: 0.000000100884820\n",
      "7. Node 9301082: 0.000000100884820\n",
      "8. Node 9307086: 0.000000100884820\n",
      "9. Node 9308141: 0.000000100884820\n",
      "10. Node 9308150: 0.000000100884820\n",
      "11. Node 9404069: 0.000000100884820\n",
      "12. Node 9404072: 0.000000100884820\n",
      "13. Node 201090: 0.000000084158091\n",
      "14. Node 111056: 0.000000083518334\n",
      "15. Node 203087: 0.000000083430272\n",
      "16. Node 304075: 0.000000083054073\n",
      "17. Node 9810028: 0.000000082696246\n",
      "18. Node 11278: 0.000000081968812\n",
      "19. Node 107042: 0.000000081941723\n",
      "20. Node 203014: 0.000000081657282\n",
      "21. Node 208169: 0.000000081520760\n",
      "22. Node 303116: 0.000000081373489\n",
      "23. Node 111168: 0.000000081172137\n",
      "24. Node 112011: 0.000000080984669\n",
      "25. Node 303125: 0.000000080926094\n",
      "26. Node 304148: 0.000000080863523\n",
      "27. Node 211183: 0.000000080687985\n",
      "28. Node 102093: 0.000000080447519\n",
      "29. Node 203136: 0.000000080357808\n",
      "30. Node 212104: 0.000000080335078\n",
      "31. Node 212155: 0.000000080307565\n",
      "32. Node 303220: 0.000000080066761\n",
      "33. Node 210033: 0.000000080007231\n",
      "34. Node 210169: 0.000000079927921\n",
      "35. Node 211198: 0.000000079841996\n",
      "36. Node 210199: 0.000000079729257\n",
      "37. Node 106261: 0.000000079678528\n",
      "38. Node 106134: 0.000000079676785\n",
      "39. Node 201261: 0.000000079613902\n",
      "40. Node 12082: 0.000000079567540\n",
      "41. Node 106001: 0.000000079564534\n",
      "42. Node 301250: 0.000000079467099\n",
      "43. Node 211220: 0.000000079466679\n",
      "44. Node 212118: 0.000000079462674\n",
      "45. Node 7229: 0.000000079401027\n",
      "46. Node 302064: 0.000000079373612\n",
      "47. Node 210066: 0.000000079305096\n",
      "48. Node 212197: 0.000000079235400\n",
      "49. Node 9910093: 0.000000079174635\n",
      "50. Node 207269: 0.000000079113630\n",
      "51. Node 209259: 0.000000079113630\n",
      "52. Node 11152: 0.000000079100130\n",
      "53. Node 110103: 0.000000079089094\n",
      "54. Node 301116: 0.000000079084774\n",
      "55. Node 210102: 0.000000079074803\n",
      "56. Node 12116: 0.000000079039022\n",
      "57. Node 301150: 0.000000079021084\n",
      "58. Node 107086: 0.000000079004759\n",
      "59. Node 4028: 0.000000078977948\n",
      "60. Node 211268: 0.000000078951557\n",
      "61. Node 303068: 0.000000078924015\n",
      "62. Node 102015: 0.000000078920775\n",
      "63. Node 212269: 0.000000078910245\n",
      "64. Node 301036: 0.000000078907465\n",
      "65. Node 108194: 0.000000078871450\n",
      "66. Node 207155: 0.000000078805290\n",
      "67. Node 210153: 0.000000078780486\n",
      "68. Node 304232: 0.000000078742418\n",
      "69. Node 210117: 0.000000078713274\n",
      "70. Node 303206: 0.000000078696042\n",
      "71. Node 101185: 0.000000078680062\n",
      "72. Node 6059: 0.000000078645535\n",
      "73. Node 207260: 0.000000078641542\n",
      "74. Node 212036: 0.000000078637483\n",
      "75. Node 303060: 0.000000078628466\n",
      "76. Node 205263: 0.000000078619282\n",
      "77. Node 304158: 0.000000078583758\n",
      "78. Node 106163: 0.000000078572167\n",
      "79. Node 303107: 0.000000078539083\n",
      "80. Node 209263: 0.000000078509831\n",
      "81. Node 201055: 0.000000078491114\n",
      "82. Node 204096: 0.000000078489923\n",
      "83. Node 107237: 0.000000078488996\n",
      "84. Node 11141: 0.000000078486526\n",
      "85. Node 205208: 0.000000078480538\n",
      "86. Node 110269: 0.000000078454536\n",
      "87. Node 105008: 0.000000078417095\n",
      "88. Node 205084: 0.000000078415567\n",
      "89. Node 104250: 0.000000078409295\n",
      "90. Node 205231: 0.000000078377951\n",
      "91. Node 212333: 0.000000078373534\n",
      "92. Node 301174: 0.000000078370477\n",
      "93. Node 103184: 0.000000078369587\n",
      "94. Node 9127: 0.000000078356969\n",
      "95. Node 207198: 0.000000078333424\n",
      "96. Node 3054: 0.000000078325258\n",
      "97. Node 108081: 0.000000078322756\n",
      "98. Node 12231: 0.000000078309347\n",
      "99. Node 9912160: 0.000000078283410\n",
      "100. Node 112166: 0.000000078275479\n"
     ]
    }
   ],
   "source": [
    "# Sort nodes by PageRank score in descending order\n",
    "pagerank_scores = {i: score for i, score in enumerate(pagerank)}\n",
    "sorted_scores = sorted(pagerank_scores.items(), key=lambda x: x[1], reverse=True)\n",
    "# Print top 100 nodes by PageRank score\n",
    "top_nodes = [(node, score) for node, score in sorted_scores[:100]]\n",
    "for i, (node, score) in enumerate(top_nodes):\n",
    "    print(f\"{i+1}. Node {node}: {score:.15f}\")"
   ]
  },
  {
   "cell_type": "markdown",
   "id": "b0ba2208",
   "metadata": {},
   "source": [
    "### Visualize your results"
   ]
  },
  {
   "cell_type": "markdown",
   "id": "bdccdd62",
   "metadata": {},
   "source": [
    "This code uses the plotly library to create a line plot of the top 100 PageRank scores, where the x-axis shows the rank and the y-axis shows the score."
   ]
  },
  {
   "cell_type": "code",
   "execution_count": 121,
   "id": "7e08329d",
   "metadata": {},
   "outputs": [
    {
     "data": {
      "application/vnd.plotly.v1+json": {
       "config": {
        "plotlyServerURL": "https://plot.ly"
       },
       "data": [
        {
         "mode": "lines",
         "type": "scatter",
         "x": [
          1,
          2,
          3,
          4,
          5,
          6,
          7,
          8,
          9,
          10,
          11,
          12,
          13,
          14,
          15,
          16,
          17,
          18,
          19,
          20,
          21,
          22,
          23,
          24,
          25,
          26,
          27,
          28,
          29,
          30,
          31,
          32,
          33,
          34,
          35,
          36,
          37,
          38,
          39,
          40,
          41,
          42,
          43,
          44,
          45,
          46,
          47,
          48,
          49,
          50,
          51,
          52,
          53,
          54,
          55,
          56,
          57,
          58,
          59,
          60,
          61,
          62,
          63,
          64,
          65,
          66,
          67,
          68,
          69,
          70,
          71,
          72,
          73,
          74,
          75,
          76,
          77,
          78,
          79,
          80,
          81,
          82,
          83,
          84,
          85,
          86,
          87,
          88,
          89,
          90,
          91,
          92,
          93,
          94,
          95,
          96,
          97,
          98,
          99,
          100
         ],
         "y": [
          1.0088482040585156e-07,
          1.0088482040585156e-07,
          1.0088482040585156e-07,
          1.0088482040585156e-07,
          1.0088482040585156e-07,
          1.0088482040585156e-07,
          1.0088482040585156e-07,
          1.0088482040585156e-07,
          1.0088482040585156e-07,
          1.0088482040585156e-07,
          1.0088482040585156e-07,
          1.0088482040585156e-07,
          8.415809118429701e-08,
          8.351833365821309e-08,
          8.343027230013435e-08,
          8.305407303111526e-08,
          8.269624640765822e-08,
          8.196881247836284e-08,
          8.194172291809585e-08,
          8.165728215632416e-08,
          8.152075959438894e-08,
          8.137348919040285e-08,
          8.117213682188454e-08,
          8.098466922894174e-08,
          8.092609408326084e-08,
          8.086352327326746e-08,
          8.068798531908908e-08,
          8.044751927459707e-08,
          8.035780805904319e-08,
          8.033507821170293e-08,
          8.030756464400292e-08,
          8.006676144378202e-08,
          8.000723122559064e-08,
          7.992792055443731e-08,
          7.984199593832227e-08,
          7.972925719881758e-08,
          7.967852751863436e-08,
          7.96767849392885e-08,
          7.961390198630122e-08,
          7.956754034058959e-08,
          7.956453363930138e-08,
          7.946709875127893e-08,
          7.946667907374933e-08,
          7.946267435965209e-08,
          7.9401027303474e-08,
          7.93736121860735e-08,
          7.930509557212853e-08,
          7.923540023572979e-08,
          7.917463478610137e-08,
          7.911362980278994e-08,
          7.911362980278994e-08,
          7.910013039751432e-08,
          7.90890938658187e-08,
          7.908477421595465e-08,
          7.907480300471391e-08,
          7.903902155612529e-08,
          7.902108369040431e-08,
          7.900475921588906e-08,
          7.89779483532731e-08,
          7.895155688767713e-08,
          7.892401492000254e-08,
          7.892077539046852e-08,
          7.891024531506141e-08,
          7.890746523031673e-08,
          7.887145040716989e-08,
          7.880529045315527e-08,
          7.878048587494702e-08,
          7.874241841149345e-08,
          7.871327358155216e-08,
          7.869604245012413e-08,
          7.868006186075603e-08,
          7.864553516567719e-08,
          7.864154224247148e-08,
          7.863748265668246e-08,
          7.862846610703687e-08,
          7.861928242782013e-08,
          7.858375772038714e-08,
          7.85721669133362e-08,
          7.853908335788498e-08,
          7.85098312853905e-08,
          7.84911142956605e-08,
          7.848992342294518e-08,
          7.848899621533824e-08,
          7.848652564375944e-08,
          7.848053763004599e-08,
          7.845453566430223e-08,
          7.841709481417129e-08,
          7.841556669637296e-08,
          7.840929464074746e-08,
          7.837795143133493e-08,
          7.837353442737651e-08,
          7.837047688645619e-08,
          7.836958668027795e-08,
          7.835696895135872e-08,
          7.83334243367365e-08,
          7.832525809788962e-08,
          7.832275569249814e-08,
          7.830934653758316e-08,
          7.828340976520452e-08,
          7.827547892049388e-08
         ]
        }
       ],
       "layout": {
        "template": {
         "data": {
          "bar": [
           {
            "error_x": {
             "color": "#2a3f5f"
            },
            "error_y": {
             "color": "#2a3f5f"
            },
            "marker": {
             "line": {
              "color": "#E5ECF6",
              "width": 0.5
             },
             "pattern": {
              "fillmode": "overlay",
              "size": 10,
              "solidity": 0.2
             }
            },
            "type": "bar"
           }
          ],
          "barpolar": [
           {
            "marker": {
             "line": {
              "color": "#E5ECF6",
              "width": 0.5
             },
             "pattern": {
              "fillmode": "overlay",
              "size": 10,
              "solidity": 0.2
             }
            },
            "type": "barpolar"
           }
          ],
          "carpet": [
           {
            "aaxis": {
             "endlinecolor": "#2a3f5f",
             "gridcolor": "white",
             "linecolor": "white",
             "minorgridcolor": "white",
             "startlinecolor": "#2a3f5f"
            },
            "baxis": {
             "endlinecolor": "#2a3f5f",
             "gridcolor": "white",
             "linecolor": "white",
             "minorgridcolor": "white",
             "startlinecolor": "#2a3f5f"
            },
            "type": "carpet"
           }
          ],
          "choropleth": [
           {
            "colorbar": {
             "outlinewidth": 0,
             "ticks": ""
            },
            "type": "choropleth"
           }
          ],
          "contour": [
           {
            "colorbar": {
             "outlinewidth": 0,
             "ticks": ""
            },
            "colorscale": [
             [
              0,
              "#0d0887"
             ],
             [
              0.1111111111111111,
              "#46039f"
             ],
             [
              0.2222222222222222,
              "#7201a8"
             ],
             [
              0.3333333333333333,
              "#9c179e"
             ],
             [
              0.4444444444444444,
              "#bd3786"
             ],
             [
              0.5555555555555556,
              "#d8576b"
             ],
             [
              0.6666666666666666,
              "#ed7953"
             ],
             [
              0.7777777777777778,
              "#fb9f3a"
             ],
             [
              0.8888888888888888,
              "#fdca26"
             ],
             [
              1,
              "#f0f921"
             ]
            ],
            "type": "contour"
           }
          ],
          "contourcarpet": [
           {
            "colorbar": {
             "outlinewidth": 0,
             "ticks": ""
            },
            "type": "contourcarpet"
           }
          ],
          "heatmap": [
           {
            "colorbar": {
             "outlinewidth": 0,
             "ticks": ""
            },
            "colorscale": [
             [
              0,
              "#0d0887"
             ],
             [
              0.1111111111111111,
              "#46039f"
             ],
             [
              0.2222222222222222,
              "#7201a8"
             ],
             [
              0.3333333333333333,
              "#9c179e"
             ],
             [
              0.4444444444444444,
              "#bd3786"
             ],
             [
              0.5555555555555556,
              "#d8576b"
             ],
             [
              0.6666666666666666,
              "#ed7953"
             ],
             [
              0.7777777777777778,
              "#fb9f3a"
             ],
             [
              0.8888888888888888,
              "#fdca26"
             ],
             [
              1,
              "#f0f921"
             ]
            ],
            "type": "heatmap"
           }
          ],
          "heatmapgl": [
           {
            "colorbar": {
             "outlinewidth": 0,
             "ticks": ""
            },
            "colorscale": [
             [
              0,
              "#0d0887"
             ],
             [
              0.1111111111111111,
              "#46039f"
             ],
             [
              0.2222222222222222,
              "#7201a8"
             ],
             [
              0.3333333333333333,
              "#9c179e"
             ],
             [
              0.4444444444444444,
              "#bd3786"
             ],
             [
              0.5555555555555556,
              "#d8576b"
             ],
             [
              0.6666666666666666,
              "#ed7953"
             ],
             [
              0.7777777777777778,
              "#fb9f3a"
             ],
             [
              0.8888888888888888,
              "#fdca26"
             ],
             [
              1,
              "#f0f921"
             ]
            ],
            "type": "heatmapgl"
           }
          ],
          "histogram": [
           {
            "marker": {
             "pattern": {
              "fillmode": "overlay",
              "size": 10,
              "solidity": 0.2
             }
            },
            "type": "histogram"
           }
          ],
          "histogram2d": [
           {
            "colorbar": {
             "outlinewidth": 0,
             "ticks": ""
            },
            "colorscale": [
             [
              0,
              "#0d0887"
             ],
             [
              0.1111111111111111,
              "#46039f"
             ],
             [
              0.2222222222222222,
              "#7201a8"
             ],
             [
              0.3333333333333333,
              "#9c179e"
             ],
             [
              0.4444444444444444,
              "#bd3786"
             ],
             [
              0.5555555555555556,
              "#d8576b"
             ],
             [
              0.6666666666666666,
              "#ed7953"
             ],
             [
              0.7777777777777778,
              "#fb9f3a"
             ],
             [
              0.8888888888888888,
              "#fdca26"
             ],
             [
              1,
              "#f0f921"
             ]
            ],
            "type": "histogram2d"
           }
          ],
          "histogram2dcontour": [
           {
            "colorbar": {
             "outlinewidth": 0,
             "ticks": ""
            },
            "colorscale": [
             [
              0,
              "#0d0887"
             ],
             [
              0.1111111111111111,
              "#46039f"
             ],
             [
              0.2222222222222222,
              "#7201a8"
             ],
             [
              0.3333333333333333,
              "#9c179e"
             ],
             [
              0.4444444444444444,
              "#bd3786"
             ],
             [
              0.5555555555555556,
              "#d8576b"
             ],
             [
              0.6666666666666666,
              "#ed7953"
             ],
             [
              0.7777777777777778,
              "#fb9f3a"
             ],
             [
              0.8888888888888888,
              "#fdca26"
             ],
             [
              1,
              "#f0f921"
             ]
            ],
            "type": "histogram2dcontour"
           }
          ],
          "mesh3d": [
           {
            "colorbar": {
             "outlinewidth": 0,
             "ticks": ""
            },
            "type": "mesh3d"
           }
          ],
          "parcoords": [
           {
            "line": {
             "colorbar": {
              "outlinewidth": 0,
              "ticks": ""
             }
            },
            "type": "parcoords"
           }
          ],
          "pie": [
           {
            "automargin": true,
            "type": "pie"
           }
          ],
          "scatter": [
           {
            "fillpattern": {
             "fillmode": "overlay",
             "size": 10,
             "solidity": 0.2
            },
            "type": "scatter"
           }
          ],
          "scatter3d": [
           {
            "line": {
             "colorbar": {
              "outlinewidth": 0,
              "ticks": ""
             }
            },
            "marker": {
             "colorbar": {
              "outlinewidth": 0,
              "ticks": ""
             }
            },
            "type": "scatter3d"
           }
          ],
          "scattercarpet": [
           {
            "marker": {
             "colorbar": {
              "outlinewidth": 0,
              "ticks": ""
             }
            },
            "type": "scattercarpet"
           }
          ],
          "scattergeo": [
           {
            "marker": {
             "colorbar": {
              "outlinewidth": 0,
              "ticks": ""
             }
            },
            "type": "scattergeo"
           }
          ],
          "scattergl": [
           {
            "marker": {
             "colorbar": {
              "outlinewidth": 0,
              "ticks": ""
             }
            },
            "type": "scattergl"
           }
          ],
          "scattermapbox": [
           {
            "marker": {
             "colorbar": {
              "outlinewidth": 0,
              "ticks": ""
             }
            },
            "type": "scattermapbox"
           }
          ],
          "scatterpolar": [
           {
            "marker": {
             "colorbar": {
              "outlinewidth": 0,
              "ticks": ""
             }
            },
            "type": "scatterpolar"
           }
          ],
          "scatterpolargl": [
           {
            "marker": {
             "colorbar": {
              "outlinewidth": 0,
              "ticks": ""
             }
            },
            "type": "scatterpolargl"
           }
          ],
          "scatterternary": [
           {
            "marker": {
             "colorbar": {
              "outlinewidth": 0,
              "ticks": ""
             }
            },
            "type": "scatterternary"
           }
          ],
          "surface": [
           {
            "colorbar": {
             "outlinewidth": 0,
             "ticks": ""
            },
            "colorscale": [
             [
              0,
              "#0d0887"
             ],
             [
              0.1111111111111111,
              "#46039f"
             ],
             [
              0.2222222222222222,
              "#7201a8"
             ],
             [
              0.3333333333333333,
              "#9c179e"
             ],
             [
              0.4444444444444444,
              "#bd3786"
             ],
             [
              0.5555555555555556,
              "#d8576b"
             ],
             [
              0.6666666666666666,
              "#ed7953"
             ],
             [
              0.7777777777777778,
              "#fb9f3a"
             ],
             [
              0.8888888888888888,
              "#fdca26"
             ],
             [
              1,
              "#f0f921"
             ]
            ],
            "type": "surface"
           }
          ],
          "table": [
           {
            "cells": {
             "fill": {
              "color": "#EBF0F8"
             },
             "line": {
              "color": "white"
             }
            },
            "header": {
             "fill": {
              "color": "#C8D4E3"
             },
             "line": {
              "color": "white"
             }
            },
            "type": "table"
           }
          ]
         },
         "layout": {
          "annotationdefaults": {
           "arrowcolor": "#2a3f5f",
           "arrowhead": 0,
           "arrowwidth": 1
          },
          "autotypenumbers": "strict",
          "coloraxis": {
           "colorbar": {
            "outlinewidth": 0,
            "ticks": ""
           }
          },
          "colorscale": {
           "diverging": [
            [
             0,
             "#8e0152"
            ],
            [
             0.1,
             "#c51b7d"
            ],
            [
             0.2,
             "#de77ae"
            ],
            [
             0.3,
             "#f1b6da"
            ],
            [
             0.4,
             "#fde0ef"
            ],
            [
             0.5,
             "#f7f7f7"
            ],
            [
             0.6,
             "#e6f5d0"
            ],
            [
             0.7,
             "#b8e186"
            ],
            [
             0.8,
             "#7fbc41"
            ],
            [
             0.9,
             "#4d9221"
            ],
            [
             1,
             "#276419"
            ]
           ],
           "sequential": [
            [
             0,
             "#0d0887"
            ],
            [
             0.1111111111111111,
             "#46039f"
            ],
            [
             0.2222222222222222,
             "#7201a8"
            ],
            [
             0.3333333333333333,
             "#9c179e"
            ],
            [
             0.4444444444444444,
             "#bd3786"
            ],
            [
             0.5555555555555556,
             "#d8576b"
            ],
            [
             0.6666666666666666,
             "#ed7953"
            ],
            [
             0.7777777777777778,
             "#fb9f3a"
            ],
            [
             0.8888888888888888,
             "#fdca26"
            ],
            [
             1,
             "#f0f921"
            ]
           ],
           "sequentialminus": [
            [
             0,
             "#0d0887"
            ],
            [
             0.1111111111111111,
             "#46039f"
            ],
            [
             0.2222222222222222,
             "#7201a8"
            ],
            [
             0.3333333333333333,
             "#9c179e"
            ],
            [
             0.4444444444444444,
             "#bd3786"
            ],
            [
             0.5555555555555556,
             "#d8576b"
            ],
            [
             0.6666666666666666,
             "#ed7953"
            ],
            [
             0.7777777777777778,
             "#fb9f3a"
            ],
            [
             0.8888888888888888,
             "#fdca26"
            ],
            [
             1,
             "#f0f921"
            ]
           ]
          },
          "colorway": [
           "#636efa",
           "#EF553B",
           "#00cc96",
           "#ab63fa",
           "#FFA15A",
           "#19d3f3",
           "#FF6692",
           "#B6E880",
           "#FF97FF",
           "#FECB52"
          ],
          "font": {
           "color": "#2a3f5f"
          },
          "geo": {
           "bgcolor": "white",
           "lakecolor": "white",
           "landcolor": "#E5ECF6",
           "showlakes": true,
           "showland": true,
           "subunitcolor": "white"
          },
          "hoverlabel": {
           "align": "left"
          },
          "hovermode": "closest",
          "mapbox": {
           "style": "light"
          },
          "paper_bgcolor": "white",
          "plot_bgcolor": "#E5ECF6",
          "polar": {
           "angularaxis": {
            "gridcolor": "white",
            "linecolor": "white",
            "ticks": ""
           },
           "bgcolor": "#E5ECF6",
           "radialaxis": {
            "gridcolor": "white",
            "linecolor": "white",
            "ticks": ""
           }
          },
          "scene": {
           "xaxis": {
            "backgroundcolor": "#E5ECF6",
            "gridcolor": "white",
            "gridwidth": 2,
            "linecolor": "white",
            "showbackground": true,
            "ticks": "",
            "zerolinecolor": "white"
           },
           "yaxis": {
            "backgroundcolor": "#E5ECF6",
            "gridcolor": "white",
            "gridwidth": 2,
            "linecolor": "white",
            "showbackground": true,
            "ticks": "",
            "zerolinecolor": "white"
           },
           "zaxis": {
            "backgroundcolor": "#E5ECF6",
            "gridcolor": "white",
            "gridwidth": 2,
            "linecolor": "white",
            "showbackground": true,
            "ticks": "",
            "zerolinecolor": "white"
           }
          },
          "shapedefaults": {
           "line": {
            "color": "#2a3f5f"
           }
          },
          "ternary": {
           "aaxis": {
            "gridcolor": "white",
            "linecolor": "white",
            "ticks": ""
           },
           "baxis": {
            "gridcolor": "white",
            "linecolor": "white",
            "ticks": ""
           },
           "bgcolor": "#E5ECF6",
           "caxis": {
            "gridcolor": "white",
            "linecolor": "white",
            "ticks": ""
           }
          },
          "title": {
           "x": 0.05
          },
          "xaxis": {
           "automargin": true,
           "gridcolor": "white",
           "linecolor": "white",
           "ticks": "",
           "title": {
            "standoff": 15
           },
           "zerolinecolor": "white",
           "zerolinewidth": 2
          },
          "yaxis": {
           "automargin": true,
           "gridcolor": "white",
           "linecolor": "white",
           "ticks": "",
           "title": {
            "standoff": 15
           },
           "zerolinecolor": "white",
           "zerolinewidth": 2
          }
         }
        },
        "title": {
         "text": "The scoring plot for the top 100 pages"
        },
        "xaxis": {
         "title": {
          "text": "NodeId"
         }
        },
        "yaxis": {
         "title": {
          "text": "Score"
         }
        }
       }
      },
      "text/html": [
       "<div>                            <div id=\"48e38202-bdea-4872-88cb-86a14ead4f1a\" class=\"plotly-graph-div\" style=\"height:525px; width:100%;\"></div>            <script type=\"text/javascript\">                require([\"plotly\"], function(Plotly) {                    window.PLOTLYENV=window.PLOTLYENV || {};                                    if (document.getElementById(\"48e38202-bdea-4872-88cb-86a14ead4f1a\")) {                    Plotly.newPlot(                        \"48e38202-bdea-4872-88cb-86a14ead4f1a\",                        [{\"mode\":\"lines\",\"x\":[1,2,3,4,5,6,7,8,9,10,11,12,13,14,15,16,17,18,19,20,21,22,23,24,25,26,27,28,29,30,31,32,33,34,35,36,37,38,39,40,41,42,43,44,45,46,47,48,49,50,51,52,53,54,55,56,57,58,59,60,61,62,63,64,65,66,67,68,69,70,71,72,73,74,75,76,77,78,79,80,81,82,83,84,85,86,87,88,89,90,91,92,93,94,95,96,97,98,99,100],\"y\":[1.0088482040585156e-07,1.0088482040585156e-07,1.0088482040585156e-07,1.0088482040585156e-07,1.0088482040585156e-07,1.0088482040585156e-07,1.0088482040585156e-07,1.0088482040585156e-07,1.0088482040585156e-07,1.0088482040585156e-07,1.0088482040585156e-07,1.0088482040585156e-07,8.415809118429701e-08,8.351833365821309e-08,8.343027230013435e-08,8.305407303111526e-08,8.269624640765822e-08,8.196881247836284e-08,8.194172291809585e-08,8.165728215632416e-08,8.152075959438894e-08,8.137348919040285e-08,8.117213682188454e-08,8.098466922894174e-08,8.092609408326084e-08,8.086352327326746e-08,8.068798531908908e-08,8.044751927459707e-08,8.035780805904319e-08,8.033507821170293e-08,8.030756464400292e-08,8.006676144378202e-08,8.000723122559064e-08,7.992792055443731e-08,7.984199593832227e-08,7.972925719881758e-08,7.967852751863436e-08,7.96767849392885e-08,7.961390198630122e-08,7.956754034058959e-08,7.956453363930138e-08,7.946709875127893e-08,7.946667907374933e-08,7.946267435965209e-08,7.9401027303474e-08,7.93736121860735e-08,7.930509557212853e-08,7.923540023572979e-08,7.917463478610137e-08,7.911362980278994e-08,7.911362980278994e-08,7.910013039751432e-08,7.90890938658187e-08,7.908477421595465e-08,7.907480300471391e-08,7.903902155612529e-08,7.902108369040431e-08,7.900475921588906e-08,7.89779483532731e-08,7.895155688767713e-08,7.892401492000254e-08,7.892077539046852e-08,7.891024531506141e-08,7.890746523031673e-08,7.887145040716989e-08,7.880529045315527e-08,7.878048587494702e-08,7.874241841149345e-08,7.871327358155216e-08,7.869604245012413e-08,7.868006186075603e-08,7.864553516567719e-08,7.864154224247148e-08,7.863748265668246e-08,7.862846610703687e-08,7.861928242782013e-08,7.858375772038714e-08,7.85721669133362e-08,7.853908335788498e-08,7.85098312853905e-08,7.84911142956605e-08,7.848992342294518e-08,7.848899621533824e-08,7.848652564375944e-08,7.848053763004599e-08,7.845453566430223e-08,7.841709481417129e-08,7.841556669637296e-08,7.840929464074746e-08,7.837795143133493e-08,7.837353442737651e-08,7.837047688645619e-08,7.836958668027795e-08,7.835696895135872e-08,7.83334243367365e-08,7.832525809788962e-08,7.832275569249814e-08,7.830934653758316e-08,7.828340976520452e-08,7.827547892049388e-08],\"type\":\"scatter\"}],                        {\"title\":{\"text\":\"The scoring plot for the top 100 pages\"},\"xaxis\":{\"title\":{\"text\":\"NodeId\"}},\"yaxis\":{\"title\":{\"text\":\"Score\"}},\"template\":{\"data\":{\"histogram2dcontour\":[{\"type\":\"histogram2dcontour\",\"colorbar\":{\"outlinewidth\":0,\"ticks\":\"\"},\"colorscale\":[[0.0,\"#0d0887\"],[0.1111111111111111,\"#46039f\"],[0.2222222222222222,\"#7201a8\"],[0.3333333333333333,\"#9c179e\"],[0.4444444444444444,\"#bd3786\"],[0.5555555555555556,\"#d8576b\"],[0.6666666666666666,\"#ed7953\"],[0.7777777777777778,\"#fb9f3a\"],[0.8888888888888888,\"#fdca26\"],[1.0,\"#f0f921\"]]}],\"choropleth\":[{\"type\":\"choropleth\",\"colorbar\":{\"outlinewidth\":0,\"ticks\":\"\"}}],\"histogram2d\":[{\"type\":\"histogram2d\",\"colorbar\":{\"outlinewidth\":0,\"ticks\":\"\"},\"colorscale\":[[0.0,\"#0d0887\"],[0.1111111111111111,\"#46039f\"],[0.2222222222222222,\"#7201a8\"],[0.3333333333333333,\"#9c179e\"],[0.4444444444444444,\"#bd3786\"],[0.5555555555555556,\"#d8576b\"],[0.6666666666666666,\"#ed7953\"],[0.7777777777777778,\"#fb9f3a\"],[0.8888888888888888,\"#fdca26\"],[1.0,\"#f0f921\"]]}],\"heatmap\":[{\"type\":\"heatmap\",\"colorbar\":{\"outlinewidth\":0,\"ticks\":\"\"},\"colorscale\":[[0.0,\"#0d0887\"],[0.1111111111111111,\"#46039f\"],[0.2222222222222222,\"#7201a8\"],[0.3333333333333333,\"#9c179e\"],[0.4444444444444444,\"#bd3786\"],[0.5555555555555556,\"#d8576b\"],[0.6666666666666666,\"#ed7953\"],[0.7777777777777778,\"#fb9f3a\"],[0.8888888888888888,\"#fdca26\"],[1.0,\"#f0f921\"]]}],\"heatmapgl\":[{\"type\":\"heatmapgl\",\"colorbar\":{\"outlinewidth\":0,\"ticks\":\"\"},\"colorscale\":[[0.0,\"#0d0887\"],[0.1111111111111111,\"#46039f\"],[0.2222222222222222,\"#7201a8\"],[0.3333333333333333,\"#9c179e\"],[0.4444444444444444,\"#bd3786\"],[0.5555555555555556,\"#d8576b\"],[0.6666666666666666,\"#ed7953\"],[0.7777777777777778,\"#fb9f3a\"],[0.8888888888888888,\"#fdca26\"],[1.0,\"#f0f921\"]]}],\"contourcarpet\":[{\"type\":\"contourcarpet\",\"colorbar\":{\"outlinewidth\":0,\"ticks\":\"\"}}],\"contour\":[{\"type\":\"contour\",\"colorbar\":{\"outlinewidth\":0,\"ticks\":\"\"},\"colorscale\":[[0.0,\"#0d0887\"],[0.1111111111111111,\"#46039f\"],[0.2222222222222222,\"#7201a8\"],[0.3333333333333333,\"#9c179e\"],[0.4444444444444444,\"#bd3786\"],[0.5555555555555556,\"#d8576b\"],[0.6666666666666666,\"#ed7953\"],[0.7777777777777778,\"#fb9f3a\"],[0.8888888888888888,\"#fdca26\"],[1.0,\"#f0f921\"]]}],\"surface\":[{\"type\":\"surface\",\"colorbar\":{\"outlinewidth\":0,\"ticks\":\"\"},\"colorscale\":[[0.0,\"#0d0887\"],[0.1111111111111111,\"#46039f\"],[0.2222222222222222,\"#7201a8\"],[0.3333333333333333,\"#9c179e\"],[0.4444444444444444,\"#bd3786\"],[0.5555555555555556,\"#d8576b\"],[0.6666666666666666,\"#ed7953\"],[0.7777777777777778,\"#fb9f3a\"],[0.8888888888888888,\"#fdca26\"],[1.0,\"#f0f921\"]]}],\"mesh3d\":[{\"type\":\"mesh3d\",\"colorbar\":{\"outlinewidth\":0,\"ticks\":\"\"}}],\"scatter\":[{\"fillpattern\":{\"fillmode\":\"overlay\",\"size\":10,\"solidity\":0.2},\"type\":\"scatter\"}],\"parcoords\":[{\"type\":\"parcoords\",\"line\":{\"colorbar\":{\"outlinewidth\":0,\"ticks\":\"\"}}}],\"scatterpolargl\":[{\"type\":\"scatterpolargl\",\"marker\":{\"colorbar\":{\"outlinewidth\":0,\"ticks\":\"\"}}}],\"bar\":[{\"error_x\":{\"color\":\"#2a3f5f\"},\"error_y\":{\"color\":\"#2a3f5f\"},\"marker\":{\"line\":{\"color\":\"#E5ECF6\",\"width\":0.5},\"pattern\":{\"fillmode\":\"overlay\",\"size\":10,\"solidity\":0.2}},\"type\":\"bar\"}],\"scattergeo\":[{\"type\":\"scattergeo\",\"marker\":{\"colorbar\":{\"outlinewidth\":0,\"ticks\":\"\"}}}],\"scatterpolar\":[{\"type\":\"scatterpolar\",\"marker\":{\"colorbar\":{\"outlinewidth\":0,\"ticks\":\"\"}}}],\"histogram\":[{\"marker\":{\"pattern\":{\"fillmode\":\"overlay\",\"size\":10,\"solidity\":0.2}},\"type\":\"histogram\"}],\"scattergl\":[{\"type\":\"scattergl\",\"marker\":{\"colorbar\":{\"outlinewidth\":0,\"ticks\":\"\"}}}],\"scatter3d\":[{\"type\":\"scatter3d\",\"line\":{\"colorbar\":{\"outlinewidth\":0,\"ticks\":\"\"}},\"marker\":{\"colorbar\":{\"outlinewidth\":0,\"ticks\":\"\"}}}],\"scattermapbox\":[{\"type\":\"scattermapbox\",\"marker\":{\"colorbar\":{\"outlinewidth\":0,\"ticks\":\"\"}}}],\"scatterternary\":[{\"type\":\"scatterternary\",\"marker\":{\"colorbar\":{\"outlinewidth\":0,\"ticks\":\"\"}}}],\"scattercarpet\":[{\"type\":\"scattercarpet\",\"marker\":{\"colorbar\":{\"outlinewidth\":0,\"ticks\":\"\"}}}],\"carpet\":[{\"aaxis\":{\"endlinecolor\":\"#2a3f5f\",\"gridcolor\":\"white\",\"linecolor\":\"white\",\"minorgridcolor\":\"white\",\"startlinecolor\":\"#2a3f5f\"},\"baxis\":{\"endlinecolor\":\"#2a3f5f\",\"gridcolor\":\"white\",\"linecolor\":\"white\",\"minorgridcolor\":\"white\",\"startlinecolor\":\"#2a3f5f\"},\"type\":\"carpet\"}],\"table\":[{\"cells\":{\"fill\":{\"color\":\"#EBF0F8\"},\"line\":{\"color\":\"white\"}},\"header\":{\"fill\":{\"color\":\"#C8D4E3\"},\"line\":{\"color\":\"white\"}},\"type\":\"table\"}],\"barpolar\":[{\"marker\":{\"line\":{\"color\":\"#E5ECF6\",\"width\":0.5},\"pattern\":{\"fillmode\":\"overlay\",\"size\":10,\"solidity\":0.2}},\"type\":\"barpolar\"}],\"pie\":[{\"automargin\":true,\"type\":\"pie\"}]},\"layout\":{\"autotypenumbers\":\"strict\",\"colorway\":[\"#636efa\",\"#EF553B\",\"#00cc96\",\"#ab63fa\",\"#FFA15A\",\"#19d3f3\",\"#FF6692\",\"#B6E880\",\"#FF97FF\",\"#FECB52\"],\"font\":{\"color\":\"#2a3f5f\"},\"hovermode\":\"closest\",\"hoverlabel\":{\"align\":\"left\"},\"paper_bgcolor\":\"white\",\"plot_bgcolor\":\"#E5ECF6\",\"polar\":{\"bgcolor\":\"#E5ECF6\",\"angularaxis\":{\"gridcolor\":\"white\",\"linecolor\":\"white\",\"ticks\":\"\"},\"radialaxis\":{\"gridcolor\":\"white\",\"linecolor\":\"white\",\"ticks\":\"\"}},\"ternary\":{\"bgcolor\":\"#E5ECF6\",\"aaxis\":{\"gridcolor\":\"white\",\"linecolor\":\"white\",\"ticks\":\"\"},\"baxis\":{\"gridcolor\":\"white\",\"linecolor\":\"white\",\"ticks\":\"\"},\"caxis\":{\"gridcolor\":\"white\",\"linecolor\":\"white\",\"ticks\":\"\"}},\"coloraxis\":{\"colorbar\":{\"outlinewidth\":0,\"ticks\":\"\"}},\"colorscale\":{\"sequential\":[[0.0,\"#0d0887\"],[0.1111111111111111,\"#46039f\"],[0.2222222222222222,\"#7201a8\"],[0.3333333333333333,\"#9c179e\"],[0.4444444444444444,\"#bd3786\"],[0.5555555555555556,\"#d8576b\"],[0.6666666666666666,\"#ed7953\"],[0.7777777777777778,\"#fb9f3a\"],[0.8888888888888888,\"#fdca26\"],[1.0,\"#f0f921\"]],\"sequentialminus\":[[0.0,\"#0d0887\"],[0.1111111111111111,\"#46039f\"],[0.2222222222222222,\"#7201a8\"],[0.3333333333333333,\"#9c179e\"],[0.4444444444444444,\"#bd3786\"],[0.5555555555555556,\"#d8576b\"],[0.6666666666666666,\"#ed7953\"],[0.7777777777777778,\"#fb9f3a\"],[0.8888888888888888,\"#fdca26\"],[1.0,\"#f0f921\"]],\"diverging\":[[0,\"#8e0152\"],[0.1,\"#c51b7d\"],[0.2,\"#de77ae\"],[0.3,\"#f1b6da\"],[0.4,\"#fde0ef\"],[0.5,\"#f7f7f7\"],[0.6,\"#e6f5d0\"],[0.7,\"#b8e186\"],[0.8,\"#7fbc41\"],[0.9,\"#4d9221\"],[1,\"#276419\"]]},\"xaxis\":{\"gridcolor\":\"white\",\"linecolor\":\"white\",\"ticks\":\"\",\"title\":{\"standoff\":15},\"zerolinecolor\":\"white\",\"automargin\":true,\"zerolinewidth\":2},\"yaxis\":{\"gridcolor\":\"white\",\"linecolor\":\"white\",\"ticks\":\"\",\"title\":{\"standoff\":15},\"zerolinecolor\":\"white\",\"automargin\":true,\"zerolinewidth\":2},\"scene\":{\"xaxis\":{\"backgroundcolor\":\"#E5ECF6\",\"gridcolor\":\"white\",\"linecolor\":\"white\",\"showbackground\":true,\"ticks\":\"\",\"zerolinecolor\":\"white\",\"gridwidth\":2},\"yaxis\":{\"backgroundcolor\":\"#E5ECF6\",\"gridcolor\":\"white\",\"linecolor\":\"white\",\"showbackground\":true,\"ticks\":\"\",\"zerolinecolor\":\"white\",\"gridwidth\":2},\"zaxis\":{\"backgroundcolor\":\"#E5ECF6\",\"gridcolor\":\"white\",\"linecolor\":\"white\",\"showbackground\":true,\"ticks\":\"\",\"zerolinecolor\":\"white\",\"gridwidth\":2}},\"shapedefaults\":{\"line\":{\"color\":\"#2a3f5f\"}},\"annotationdefaults\":{\"arrowcolor\":\"#2a3f5f\",\"arrowhead\":0,\"arrowwidth\":1},\"geo\":{\"bgcolor\":\"white\",\"landcolor\":\"#E5ECF6\",\"subunitcolor\":\"white\",\"showland\":true,\"showlakes\":true,\"lakecolor\":\"white\"},\"title\":{\"x\":0.05},\"mapbox\":{\"style\":\"light\"}}}},                        {\"responsive\": true}                    ).then(function(){\n",
       "                            \n",
       "var gd = document.getElementById('48e38202-bdea-4872-88cb-86a14ead4f1a');\n",
       "var x = new MutationObserver(function (mutations, observer) {{\n",
       "        var display = window.getComputedStyle(gd).display;\n",
       "        if (!display || display === 'none') {{\n",
       "            console.log([gd, 'removed!']);\n",
       "            Plotly.purge(gd);\n",
       "            observer.disconnect();\n",
       "        }}\n",
       "}});\n",
       "\n",
       "// Listen for the removal of the full notebook cells\n",
       "var notebookContainer = gd.closest('#notebook-container');\n",
       "if (notebookContainer) {{\n",
       "    x.observe(notebookContainer, {childList: true});\n",
       "}}\n",
       "\n",
       "// Listen for the clearing of the current output cell\n",
       "var outputEl = gd.closest('.output');\n",
       "if (outputEl) {{\n",
       "    x.observe(outputEl, {childList: true});\n",
       "}}\n",
       "\n",
       "                        })                };                });            </script>        </div>"
      ]
     },
     "metadata": {},
     "output_type": "display_data"
    }
   ],
   "source": [
    "import plotly.graph_objs as go\n",
    "\n",
    "top_scores = [score for _, score in sorted_scores[:100]]\n",
    "trace = go.Scatter(\n",
    "    x=list(range(1, 101)), \n",
    "    y=top_scores, \n",
    "    mode=\"lines\"\n",
    ")\n",
    "\n",
    "layout = go.Layout(\n",
    "    title=\"The scoring plot for the top 100 pages\",\n",
    "    xaxis=dict(title=\"NodeId\"),\n",
    "    yaxis=dict(title=\"Score\")\n",
    ")\n",
    "\n",
    "fig = go.Figure(data=[trace], layout=layout)\n",
    "fig.show()"
   ]
  },
  {
   "attachments": {
    "image-4.png": {
     "image/png": "[encoded data removed]"
    }
   },
   "cell_type": "markdown",
   "id": "7f14643f",
   "metadata": {},
   "source": [
    "![image-4.png](attachment:image-4.png)"
   ]
  }
 ],
 "metadata": {
  "kernelspec": {
   "display_name": "Python 3 (ipykernel)",
   "language": "python",
   "name": "python3"
  },
  "language_info": {
   "codemirror_mode": {
    "name": "ipython",
    "version": 3
   },
   "file_extension": ".py",
   "mimetype": "text/x-python",
   "name": "python",
   "nbconvert_exporter": "python",
   "pygments_lexer": "ipython3",
   "version": "3.9.13"
  }
 },
 "nbformat": 4,
 "nbformat_minor": 5
}
